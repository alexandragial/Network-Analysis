{
  "nbformat": 4,
  "nbformat_minor": 0,
  "metadata": {
    "colab": {
      "provenance": []
    },
    "kernelspec": {
      "name": "python3",
      "display_name": "Python 3"
    },
    "language_info": {
      "name": "python"
    }
  },
  "cells": [
    {
      "cell_type": "markdown",
      "source": [
        "**LIBRARIES**"
      ],
      "metadata": {
        "id": "-LlARvnhHbBN"
      }
    },
    {
      "cell_type": "code",
      "execution_count": null,
      "metadata": {
        "id": "SxfICR_sqS5T"
      },
      "outputs": [],
      "source": [
        "import networkx as nx\n",
        "import pandas as pd\n",
        "import numpy as np\n",
        "import math\n",
        "import matplotlib.pyplot as plt\n",
        "from  matplotlib.pyplot import get_cmap\n",
        "from sklearn.cluster import AgglomerativeClustering, SpectralClustering\n",
        "from sklearn.metrics.pairwise import pairwise_distances\n",
        "from networkx.algorithms.community.centrality import girvan_newman\n",
        "from sklearn import metrics\n",
        "from scipy.special import binom"
      ]
    },
    {
      "cell_type": "code",
      "source": [
        "filename = 'file.gml'"
      ],
      "metadata": {
        "id": "B5v9eKrd8XlQ"
      },
      "execution_count": null,
      "outputs": []
    },
    {
      "cell_type": "markdown",
      "source": [
        "**EVALUATION METRICS**"
      ],
      "metadata": {
        "id": "YqM666A5C39R"
      }
    },
    {
      "cell_type": "code",
      "source": [
        "def true_positive(true_communities, pred_communities):\n",
        "  \"\"\"\n",
        "    Calculates true positive assignment, which means that similar members\n",
        "    are assigned to the same communities.\n",
        "\n",
        "    Args:\n",
        "      true_communities (list of lists): List of true communities' lists.\n",
        "      pred_communities (list of lists): List of predicted communities' lists.\n",
        "\n",
        "    Returns:\n",
        "      Value of true positive.\n",
        "  \"\"\"\n",
        "  max_labels = []\n",
        "  for pred_com in pred_communities:\n",
        "    count0 = 0\n",
        "    count1 = 0\n",
        "    for node in pred_com:\n",
        "      if node in true_communities[0]:\n",
        "        count0 += 1\n",
        "      else:\n",
        "        count1 += 1\n",
        "    max_labels.append(max(count0, count1))\n",
        "\n",
        "  tp = binom(2, 2) + sum([binom(label, 2) for label in max_labels])\n",
        "  return tp\n",
        "\n",
        "def count_cluster_labels(true_communities, pred_communities):\n",
        "  \"\"\"\n",
        "    Loops through the predicted communities and identifies the number of\n",
        "    nodes that belongs to the corresponding true community.\n",
        "\n",
        "    Args:\n",
        "      true_communities (list of lists): List of true communities' lists.\n",
        "      pred_communities (list of lists): List of predicted communities' lists.\n",
        "\n",
        "    Returns:\n",
        "      count_labels (list): List of the number of nodes\n",
        "        which belong to the corresponding true community\n",
        "  \"\"\"\n",
        "  count_labels = []\n",
        "  for pred_com in pred_communities:\n",
        "    count0 = 0\n",
        "    count1 = 0\n",
        "    for node in pred_com:\n",
        "      if node in true_communities[0]:\n",
        "        count0 += 1\n",
        "      else:\n",
        "        count1 += 1\n",
        "    count_labels.append([count0, count1])\n",
        "  return count_labels\n",
        "\n",
        "def false_positive(true_communities, pred_communities):\n",
        "  \"\"\"\n",
        "    Calculates false positive assignment, which means that dissimilar members\n",
        "    are assigned to the same communities.\n",
        "\n",
        "    Args:\n",
        "      true_communities (list of lists): List of true communities' lists.\n",
        "      pred_communities (list of lists): List of predicted communities' lists.\n",
        "\n",
        "    Returns:\n",
        "      Value of false positive.\n",
        "  \"\"\"\n",
        "\n",
        "  count_labels = count_cluster_labels(true_communities, pred_communities)\n",
        "\n",
        "  fp = 0\n",
        "  for labels in count_labels:\n",
        "    fp += math.prod(labels)\n",
        "  return fp\n",
        "\n",
        "def false_negative(true_communities, pred_communities):\n",
        "  \"\"\"\n",
        "    Calculates false negative assignment, which means that similar members are\n",
        "    assigned to different communities.\n",
        "\n",
        "    Args:\n",
        "      true_communities (list of lists): List of true communities' lists.\n",
        "      pred_communities (list of lists): List of predicted communities' lists.\n",
        "\n",
        "    Returns:\n",
        "      Value of false negative.\n",
        "  \"\"\"\n",
        "  count_labels = count_cluster_labels(true_communities, pred_communities)\n",
        "\n",
        "  fn = 0\n",
        "  for i in range(len(count_labels)):\n",
        "    for j in range(len(count_labels[i])):\n",
        "      fn += count_labels[i][j] * sum(count_labels[k][j] for k in range(i+1, len(count_labels)))\n",
        "  return fn"
      ],
      "metadata": {
        "id": "Thgy6cZah3Zu"
      },
      "execution_count": null,
      "outputs": []
    },
    {
      "cell_type": "code",
      "source": [
        "# Precision\n",
        "def calc_precision(true_communities, pred_communities):\n",
        "  \"\"\"\n",
        "    Calculates precision.\n",
        "\n",
        "    Args:\n",
        "      true_communities (list of lists): List of true communities' lists.\n",
        "      pred_communities (list of lists): List of predicted communities' lists.\n",
        "\n",
        "    Returns:\n",
        "      Value of precision.\n",
        "  \"\"\"\n",
        "  tp = true_positive(true_communities, pred_communities)\n",
        "  fp = false_positive(true_communities, pred_communities)\n",
        "  return tp / (tp + fp)\n",
        "\n",
        "# Recall\n",
        "  \"\"\"\n",
        "    Calculates recall.\n",
        "\n",
        "    Args:\n",
        "      true_communities (list of lists): List of true communities' lists.\n",
        "      pred_communities (list of lists): List of predicted communities' lists.\n",
        "\n",
        "    Returns:\n",
        "      Value of recall.\n",
        "  \"\"\"\n",
        "def calc_recall(true_communities, pred_communities):\n",
        "  tp = true_positive(true_communities, pred_communities)\n",
        "  fn = false_negative(true_communities, pred_communities)\n",
        "  return tp / (tp + fn)\n",
        "\n",
        "# Purity\n",
        "def calc_purity(true_communities, pred_communities):\n",
        "  \"\"\"\n",
        "    Calculates purity.\n",
        "\n",
        "    Args:\n",
        "      true_communities (list of lists): List of true communities' lists.\n",
        "      pred_communities (list of lists): List of predicted communities' lists.\n",
        "\n",
        "    Returns:\n",
        "      Value of purity.\n",
        "  \"\"\"\n",
        "  true_labels = [label for label, com in enumerate(true_communities) for _ in range(len(com))]\n",
        "  pred_labels = [label for label, com in enumerate(pred_communities) for _ in range(len(com))]\n",
        "\n",
        "  confusion_matrix = metrics.confusion_matrix(true_labels, pred_labels)\n",
        "\n",
        "  return np.sum(np.amax(confusion_matrix, axis=0)) / np.sum(confusion_matrix)"
      ],
      "metadata": {
        "id": "iP3Z7u7Z-Smz"
      },
      "execution_count": null,
      "outputs": []
    },
    {
      "cell_type": "code",
      "source": [
        "# Normalized Mutual Information\n",
        "def calc_nmi(true_communities, pred_communities, num_nodes):\n",
        "  \"\"\"\n",
        "    Calculates normalized mutual information.\n",
        "\n",
        "    Args:\n",
        "      true_communities (list of lists): List of true communities' lists.\n",
        "      pred_communities (list of lists): List of predicted communities' lists.\n",
        "      num_nodes (int): Number of nodes.\n",
        "\n",
        "    Returns:\n",
        "      Value of NMI.\n",
        "  \"\"\"\n",
        "\n",
        "  def calc_prob(nodes, communities):\n",
        "    \"\"\"\n",
        "    Calculates probability.\n",
        "\n",
        "    Args:\n",
        "      communities (list of lists): List of communities' lists.\n",
        "      nodes (int): Number of nodes.\n",
        "\n",
        "    Returns:\n",
        "      Probability of class/cluster labels.\n",
        "  \"\"\"\n",
        "    return [len(com) / nodes for com in communities]\n",
        "\n",
        "  def calc_entropy(prob):\n",
        "    \"\"\"\n",
        "    Calculates entropy.\n",
        "\n",
        "    Args:\n",
        "      prob (float): Probability of class/cluster labels.\n",
        "\n",
        "    Returns:\n",
        "      Entropy of class/cluster labels.\n",
        "  \"\"\"\n",
        "    entropy_labels = 0\n",
        "    for p in prob:\n",
        "      entropy_labels -= p * math.log(p, 2)\n",
        "    return entropy_labels\n",
        "\n",
        "  # Entropy of Class Labels\n",
        "  class_prob = calc_prob(num_nodes, true_communities)\n",
        "  entropy_class_labels = calc_entropy(class_prob)\n",
        "\n",
        "  # Entropy of Cluster Labels\n",
        "  cluster_prob = calc_prob(num_nodes, pred_communities)\n",
        "  entropy_cluster_labels = calc_entropy(cluster_prob)\n",
        "\n",
        "  # Calculate conditional entropy of true labels for clustering\n",
        "  prob_y_c = []\n",
        "  for pred_com in pred_communities:\n",
        "      save_prob_c_y = []\n",
        "      for true_com in true_communities:\n",
        "          same_class_cluster = len(set(true_com) & set(pred_com))\n",
        "          save_prob_c_y.append(same_class_cluster / len(pred_com))\n",
        "      prob_y_c.append(save_prob_c_y)\n",
        "\n",
        "  entropy_y_c = 0\n",
        "  for i, save_prob_c_y in enumerate(prob_y_c):\n",
        "      entropy_c_y = 0\n",
        "      for j, prob in enumerate(save_prob_c_y):\n",
        "          if prob != 0:\n",
        "              entropy_c_y += prob * math.log(prob, 2)\n",
        "      entropy_y_c -= cluster_prob[i] * entropy_c_y\n",
        "\n",
        "  # Calculate mutual information\n",
        "  mutual_info = entropy_class_labels - entropy_y_c\n",
        "\n",
        "  # Calculate normalized mutual information\n",
        "  norm_mutual_info = (2 * mutual_info) / (entropy_class_labels + entropy_cluster_labels)\n",
        "\n",
        "  return norm_mutual_info"
      ],
      "metadata": {
        "id": "WdPYfFyvoCNU"
      },
      "execution_count": null,
      "outputs": []
    },
    {
      "cell_type": "code",
      "source": [
        "# Modularity\n",
        "def calc_modularity(graph, communities):\n",
        "  \"\"\"\n",
        "    Calculates modularity of the clustered graph.\n",
        "\n",
        "    Args:\n",
        "      graph : A (un)directed graph\n",
        "      communities (list of lists): List of communities' lists\n",
        "\n",
        "    Returns:\n",
        "      Value of modularity.\n",
        "  \"\"\"\n",
        "  return nx.algorithms.community.modularity(graph, communities)\n",
        "\n",
        "# Conductance\n",
        "def calc_conductance(graph, communities):\n",
        "  \"\"\"\n",
        "    Calculates conductance of the clustered graph.\n",
        "\n",
        "\n",
        "    Args:\n",
        "      graph : A (un)directed graph\n",
        "      communities (list of lists): List of communities' lists\n",
        "\n",
        "    Returns:\n",
        "      Value of conductance.\n",
        "  \"\"\"\n",
        "  return min(nx.conductance(graph, com, weight='weight')\n",
        "            for com in communities)\n",
        "\n",
        "# Density\n",
        "def calc_density(graph, communities):\n",
        "  \"\"\"\n",
        "    Calculates density of the clustered graph.\n",
        "\n",
        "    Args:\n",
        "      graph : A (un)directed graph\n",
        "      communities (list of lists): List of communities' lists\n",
        "\n",
        "    Returns:\n",
        "      Value of density.\n",
        "  \"\"\"\n",
        "  list_density = []\n",
        "  for com in communities:\n",
        "    sub = graph.subgraph(com)\n",
        "    list_density.append(nx.density(sub))\n",
        "  return np.mean(list_density)"
      ],
      "metadata": {
        "id": "AEAqg5Ju2PIk"
      },
      "execution_count": null,
      "outputs": []
    },
    {
      "cell_type": "markdown",
      "source": [
        "**PLOT FUNCTION**"
      ],
      "metadata": {
        "id": "-bDwbxNsDEly"
      }
    },
    {
      "cell_type": "code",
      "source": [
        "def plot_graph(graph, communities):\n",
        "\n",
        "  \"\"\"\n",
        "    Plots the graph along with the communities detected.\n",
        "\n",
        "    Args:\n",
        "      graph : A (un)directed graph\n",
        "      communities (list of lists): List of communities' lists\n",
        "\n",
        "    Returns:\n",
        "      -\n",
        "  \"\"\"\n",
        "\n",
        "  colors = ['skyblue', 'lightcoral', 'limegreen', 'mediumpurple', 'hotpink', 'gold']\n",
        "  pos = nx.spring_layout(graph)\n",
        "\n",
        "  plt.figure(figsize=(20, 15))\n",
        "  nx.draw_networkx_edges(graph, pos=pos, edge_color='darkgray')\n",
        "  for community, color in zip(communities, colors):\n",
        "      nx.draw_networkx_nodes(graph, pos=pos,\n",
        "                            nodelist=community, node_color=color, node_size=250)\n",
        "  nx.draw_networkx_labels(graph, pos=pos, font_size=9)\n",
        "  _ = plt.axis('off')\n",
        "  plt.show()"
      ],
      "metadata": {
        "id": "r2UK72xklsZZ"
      },
      "execution_count": null,
      "outputs": []
    },
    {
      "cell_type": "markdown",
      "source": [
        "**OTHER FUNCTIONS**"
      ],
      "metadata": {
        "id": "BfpvNga5DKK8"
      }
    },
    {
      "cell_type": "code",
      "source": [
        "def create_list_of_communities(dict_labels):\n",
        "\n",
        "  \"\"\"\n",
        "    Creates a list of lists given a dictionary of labels,\n",
        "    where each inner list respresents a community.\n",
        "\n",
        "    Args:\n",
        "      dict_labels (dictionary): A dictionary of labels which has the form\n",
        "          {key = nodes : value = label}. The labels' values are 0 or 1.\n",
        "\n",
        "    Returns:\n",
        "      list_communities (list of lists): List of communities' lists\n",
        "  \"\"\"\n",
        "\n",
        "  # Create a list with two inner empty lists\n",
        "  list_communities = [[],[]]\n",
        "  # Filter nodes' label\n",
        "  for node in dict_labels.keys():\n",
        "    if dict_labels[node] == 0:\n",
        "      # Community 0\n",
        "      list_communities[0].append(node)\n",
        "    elif dict_labels[node] == 1:\n",
        "      # Community 1\n",
        "      list_communities[1].append(node)\n",
        "    else:\n",
        "      continue\n",
        "\n",
        "  return list_communities"
      ],
      "metadata": {
        "id": "i8pp3hhH0cfQ"
      },
      "execution_count": null,
      "outputs": []
    },
    {
      "cell_type": "markdown",
      "source": [
        "# File's Graph"
      ],
      "metadata": {
        "id": "PL2VuxAtlZQB"
      }
    },
    {
      "cell_type": "code",
      "source": [
        "# Read the directed graph from the .gml file\n",
        "G = nx.read_gml(filename, label='id')\n",
        "\n",
        "G_nodes = len(G.nodes())\n",
        "G_edges = G.size()\n",
        "print(\"* The original graph G:\")\n",
        "print(\"Nodes:\", G_nodes)\n",
        "print(\"Edges:\", G_edges)\n",
        "print()\n",
        "\n",
        "# Remove duplicates of edges\n",
        "H = nx.DiGraph(G)\n",
        "# Find the largest connected component of the graph\n",
        "H_lcc = max(nx.strongly_connected_components(H), key=len)\n",
        "# Create a subgraph using the set of nodes from the largest component\n",
        "H_subgraph = H.subgraph(H_lcc)\n",
        "\n",
        "H_nodes = len(H_subgraph.nodes())\n",
        "H_edges = H_subgraph.size()\n",
        "\n",
        "print(\"* The largest connected component of directed G, turned into a subgraph:\")\n",
        "print(\"Nodes:\", H_nodes)\n",
        "print(\"Edges:\", H_edges)\n",
        "print()\n",
        "\n",
        "# Convert subgraph to undirected\n",
        "H_undirected_subgraph = H_subgraph.to_undirected()\n",
        "\n",
        "# Get the 'value' attribute of each node\n",
        "node_values = dict()\n",
        "for node in H_subgraph.nodes():\n",
        "  node_values[node] = H_subgraph.nodes[node]['value']\n",
        "\n",
        "print(\"* The ground-truth values of each node:\\n\", node_values)\n",
        "print()\n",
        "\n",
        "# Keep the nodes of each community into a list of lists\n",
        "true_communities = create_list_of_communities(node_values)\n",
        "print(\"* The ground-truth communities are:\\n\", true_communities)"
      ],
      "metadata": {
        "id": "9l8xYY_8mRNI"
      },
      "execution_count": null,
      "outputs": []
    },
    {
      "cell_type": "markdown",
      "source": [
        "**Performance Evaluation**"
      ],
      "metadata": {
        "id": "JvLoE4S2s0Be"
      }
    },
    {
      "cell_type": "code",
      "source": [
        "print(\"* Evaluation of ground-truth communities:\")\n",
        "print(\"Modularity:\", calc_modularity(H_undirected_subgraph, true_communities))\n",
        "print(\"Conductance:\", calc_conductance(H_undirected_subgraph, true_communities))\n",
        "print(\"Density:\", calc_density(H_undirected_subgraph, true_communities))"
      ],
      "metadata": {
        "id": "e5xI4mXd2e_3"
      },
      "execution_count": null,
      "outputs": []
    },
    {
      "cell_type": "markdown",
      "source": [
        "**Visualization (Ground Truth Plot)**"
      ],
      "metadata": {
        "id": "cX44Jku_r3qP"
      }
    },
    {
      "cell_type": "code",
      "source": [
        "plot_graph(H_subgraph, true_communities)"
      ],
      "metadata": {
        "id": "HcZpblCdr8Jh"
      },
      "execution_count": null,
      "outputs": []
    },
    {
      "cell_type": "markdown",
      "source": [
        "# 1. Clauset-Newman-Moore Greedy Modularity Maximization"
      ],
      "metadata": {
        "id": "nLlKa9Hr_vLb"
      }
    },
    {
      "cell_type": "code",
      "source": [
        "greedy_communities = list(nx.algorithms.community.greedy_modularity_communities(H_undirected_subgraph))"
      ],
      "metadata": {
        "id": "TESgY_56-_FD"
      },
      "execution_count": null,
      "outputs": []
    },
    {
      "cell_type": "markdown",
      "source": [
        "**Performance Evaluation**"
      ],
      "metadata": {
        "id": "lwdHLm9aBJOL"
      }
    },
    {
      "cell_type": "code",
      "source": [
        "print(\"* Evaluation of Greedy Modularity Maximization communities:\")\n",
        "print(\"Precision:\", calc_precision(true_communities, greedy_communities))\n",
        "print(\"Recall:\", calc_recall(true_communities, greedy_communities))\n",
        "print(\"Purity:\", calc_purity(true_communities, greedy_communities))\n",
        "print(\"NMI:\", calc_nmi(true_communities, greedy_communities, H_nodes))\n",
        "print(\"Modularity:\", calc_modularity(H_undirected_subgraph, greedy_communities))\n",
        "print(\"Conductance:\", calc_conductance(H_undirected_subgraph, greedy_communities))\n",
        "print(\"Density:\", calc_density(H_undirected_subgraph, greedy_communities))"
      ],
      "metadata": {
        "id": "aFEXBCOOAw_n"
      },
      "execution_count": null,
      "outputs": []
    },
    {
      "cell_type": "markdown",
      "source": [
        "**Visualization**"
      ],
      "metadata": {
        "id": "jNUzh_6lrTYD"
      }
    },
    {
      "cell_type": "code",
      "source": [
        "plot_graph(H_subgraph, greedy_communities)"
      ],
      "metadata": {
        "id": "0779BXr_qohB"
      },
      "execution_count": null,
      "outputs": []
    },
    {
      "cell_type": "markdown",
      "source": [
        "# 2. Agglomerative Hierarchical Clustering"
      ],
      "metadata": {
        "id": "3VSxIfKwvckL"
      }
    },
    {
      "cell_type": "code",
      "source": [
        "# Number of clusters\n",
        "n_clusters = 2\n",
        "\n",
        "# Get the adjacency matrix from the graph\n",
        "adj_matrix = nx.to_numpy_array(H_undirected_subgraph)"
      ],
      "metadata": {
        "id": "r5ZHzQu2vDkw"
      },
      "execution_count": null,
      "outputs": []
    },
    {
      "cell_type": "code",
      "source": [
        "# Apply agglomerative clustering\n",
        "model = AgglomerativeClustering(n_clusters=n_clusters, linkage='ward')\n",
        "pred_labels = model.fit_predict(adj_matrix)\n",
        "pred_communities = {i : community for i, community in zip(H_subgraph.nodes(), pred_labels)}"
      ],
      "metadata": {
        "id": "t_eMqx8Jvb3G"
      },
      "execution_count": null,
      "outputs": []
    },
    {
      "cell_type": "markdown",
      "source": [
        "**Performance Evaluation**"
      ],
      "metadata": {
        "id": "PTpmcicHzdDJ"
      }
    },
    {
      "cell_type": "code",
      "source": [
        "agg_communities = create_list_of_communities(pred_communities)"
      ],
      "metadata": {
        "id": "4VsAZ6T1edLr"
      },
      "execution_count": null,
      "outputs": []
    },
    {
      "cell_type": "code",
      "source": [
        "print(\"* Evaluation of Agglomerative clustering:\")\n",
        "print(\"Precision:\", calc_precision(true_communities, agg_communities))\n",
        "print(\"Recall:\", calc_recall(true_communities, agg_communities))\n",
        "print(\"Purity:\", calc_purity(true_communities, agg_communities))\n",
        "print(\"NMI:\", calc_nmi(true_communities, agg_communities, H_nodes))\n",
        "print(\"Modularity:\", calc_modularity(H_undirected_subgraph, agg_communities))\n",
        "print(\"Conductance:\", calc_conductance(H_undirected_subgraph, agg_communities))\n",
        "print(\"Density:\", calc_density(H_undirected_subgraph, agg_communities))"
      ],
      "metadata": {
        "id": "WSczepX8Xnmp"
      },
      "execution_count": null,
      "outputs": []
    },
    {
      "cell_type": "markdown",
      "source": [
        "**Visualization**"
      ],
      "metadata": {
        "id": "R0OV2V4zqVfj"
      }
    },
    {
      "cell_type": "code",
      "source": [
        "plot_graph(H_subgraph, agg_communities)"
      ],
      "metadata": {
        "id": "x_kaZ00Rp5CQ"
      },
      "execution_count": null,
      "outputs": []
    },
    {
      "cell_type": "markdown",
      "source": [
        "# 3. Divisive Hierarchical Method"
      ],
      "metadata": {
        "id": "gHYdDj_Gy6VC"
      }
    },
    {
      "cell_type": "markdown",
      "source": [
        "(based on Albert-László Barabási, http://networksciencebook.com/)"
      ],
      "metadata": {
        "id": "-DHKNl8VD-No"
      }
    },
    {
      "cell_type": "code",
      "source": [
        "def girvan_newman(G):\n",
        "    \"\"\" run the algorithm of Girvan + Newman up to the first separation\n",
        "        and return list of components of G, list of edges removed\n",
        "    \"\"\"\n",
        "\n",
        "    # we're going to remove edges, so do it on a copy of the original graph\n",
        "    G = G.copy()\n",
        "\n",
        "    def find_best_edge(G0):\n",
        "        \"\"\" get the edge from G0 with highest betweenness centrality\"\"\"\n",
        "        eb = nx.edge_betweenness_centrality(G0)\n",
        "        edges = eb.keys()\n",
        "        return max(edges, key=lambda e: eb[e])\n",
        "\n",
        "    removed_edges = []\n",
        "    # Proceed until we separate the graph\n",
        "    while nx.number_connected_components(G) == 1:\n",
        "        u, v = find_best_edge(G)\n",
        "        G.remove_edge(u, v)\n",
        "        removed_edges.append((u, v))\n",
        "\n",
        "    return list(nx.connected_components(G)), removed_edges"
      ],
      "metadata": {
        "id": "BFkyc9gWVm7B"
      },
      "execution_count": null,
      "outputs": []
    },
    {
      "cell_type": "code",
      "source": [
        "gn_communities, removed_edges = girvan_newman(H_undirected_subgraph)\n",
        "other_edges = set(H_subgraph.edges()) - set(removed_edges)"
      ],
      "metadata": {
        "id": "s_ReIHx2VrNf"
      },
      "execution_count": null,
      "outputs": []
    },
    {
      "cell_type": "markdown",
      "source": [
        "**Performance Evaluation**"
      ],
      "metadata": {
        "id": "lVvrg9bLFN4u"
      }
    },
    {
      "cell_type": "code",
      "source": [
        "print(\"* Evaluation of Girvan-Newman algorithm:\")\n",
        "print(\"Precision:\", calc_precision(true_communities, gn_communities))\n",
        "print(\"Recall:\", calc_recall(true_communities, gn_communities))\n",
        "print(\"Purity:\", calc_purity(true_communities, gn_communities))\n",
        "print(\"NMI:\", calc_nmi(true_communities, gn_communities, H_nodes))\n",
        "print(\"Modularity:\", calc_modularity(H_undirected_subgraph, gn_communities))\n",
        "print(\"Conductance:\", calc_conductance(H_undirected_subgraph, gn_communities))\n",
        "print(\"Density:\", calc_density(H_undirected_subgraph, gn_communities))"
      ],
      "metadata": {
        "id": "sZ_Dmim2Y1cg"
      },
      "execution_count": null,
      "outputs": []
    },
    {
      "cell_type": "markdown",
      "source": [
        "**Visualization**"
      ],
      "metadata": {
        "id": "HZIx9rlkGOAf"
      }
    },
    {
      "cell_type": "code",
      "source": [
        "plot_graph(H_subgraph, gn_communities)"
      ],
      "metadata": {
        "id": "m5_woDB1pIWu"
      },
      "execution_count": null,
      "outputs": []
    },
    {
      "cell_type": "markdown",
      "source": [
        "# 4. Spectral Clustering"
      ],
      "metadata": {
        "id": "mWzHBJ-02i8G"
      }
    },
    {
      "cell_type": "code",
      "source": [
        "# Apply spectral clustering to the laplacian matrix\n",
        "model = SpectralClustering(n_clusters = n_clusters, affinity='precomputed')\n",
        "pred_labels = model.fit_predict(adj_matrix)\n",
        "pred_communities = {i : community for i, community in zip(H_subgraph.nodes(), pred_labels)}"
      ],
      "metadata": {
        "id": "fFGD62rU2h5s"
      },
      "execution_count": null,
      "outputs": []
    },
    {
      "cell_type": "markdown",
      "source": [
        "**Performance Evaluation**"
      ],
      "metadata": {
        "id": "Esux5Zj4fiI-"
      }
    },
    {
      "cell_type": "code",
      "source": [
        "spec_communities = create_list_of_communities(pred_communities)"
      ],
      "metadata": {
        "id": "ePs5CEUVN82k"
      },
      "execution_count": null,
      "outputs": []
    },
    {
      "cell_type": "code",
      "source": [
        "print(\"* Evaluation of Spectral Clustering:\")\n",
        "print(\"Precision:\", calc_precision(true_communities, spec_communities))\n",
        "print(\"Recall:\", calc_recall(true_communities, spec_communities))\n",
        "print(\"Purity:\", calc_purity(true_communities, spec_communities))\n",
        "print(\"NMI:\", calc_nmi(true_communities, spec_communities, H_nodes))\n",
        "print(\"Modularity:\", calc_modularity(H_undirected_subgraph, spec_communities))\n",
        "print(\"Conductance:\", calc_conductance(H_undirected_subgraph, spec_communities))\n",
        "print(\"Density:\", calc_density(H_undirected_subgraph, spec_communities))"
      ],
      "metadata": {
        "id": "ImvoaZwhZFld"
      },
      "execution_count": null,
      "outputs": []
    },
    {
      "cell_type": "markdown",
      "source": [
        "**Visualization**"
      ],
      "metadata": {
        "id": "sd8NQ_MpobGo"
      }
    },
    {
      "cell_type": "code",
      "source": [
        "plot_graph(H_subgraph, spec_communities)"
      ],
      "metadata": {
        "id": "rRZ-jAT_oLzr"
      },
      "execution_count": null,
      "outputs": []
    }
  ]
}