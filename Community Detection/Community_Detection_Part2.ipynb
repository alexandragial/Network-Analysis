{
  "nbformat": 4,
  "nbformat_minor": 0,
  "metadata": {
    "colab": {
      "provenance": []
    },
    "kernelspec": {
      "name": "python3",
      "display_name": "Python 3"
    },
    "language_info": {
      "name": "python"
    }
  },
  "cells": [
    {
      "cell_type": "markdown",
      "source": [
        "**LIBRARIES**"
      ],
      "metadata": {
        "id": "-OeoLMwrmKIc"
      }
    },
    {
      "cell_type": "code",
      "execution_count": null,
      "metadata": {
        "id": "SxfICR_sqS5T"
      },
      "outputs": [],
      "source": [
        "import networkx as nx\n",
        "import pandas as pd\n",
        "import numpy as np\n",
        "import math\n",
        "import matplotlib.pyplot as plt\n",
        "from  matplotlib.pyplot import get_cmap\n",
        "from sklearn.cluster import AgglomerativeClustering, SpectralClustering\n",
        "from sklearn.metrics.pairwise import pairwise_distances\n",
        "from networkx.algorithms.community.centrality import girvan_newman"
      ]
    },
    {
      "cell_type": "markdown",
      "source": [
        "**EVALUATION METRICS**"
      ],
      "metadata": {
        "id": "nP6STOipmGm2"
      }
    },
    {
      "cell_type": "code",
      "source": [
        "# Modularity\n",
        "def calc_modularity(graph, communities):\n",
        "  \"\"\"\n",
        "    Calculates modularity of the clustered graph.\n",
        "\n",
        "    Args:\n",
        "      graph : A (un)directed graph\n",
        "      communities (list of lists): List of communities' lists\n",
        "\n",
        "    Returns:\n",
        "      Value of modularity.\n",
        "  \"\"\"\n",
        "  return nx.algorithms.community.modularity(graph, communities)\n",
        "\n",
        "# Conductance\n",
        "def calc_conductance(graph, communities):\n",
        "  \"\"\"\n",
        "    Calculates conductance of the clustered graph.\n",
        "\n",
        "\n",
        "    Args:\n",
        "      graph : A (un)directed graph\n",
        "      communities (list of lists): List of communities' lists\n",
        "\n",
        "    Returns:\n",
        "      Value of conductance.\n",
        "  \"\"\"\n",
        "  return min(nx.conductance(graph, com, weight='weight')\n",
        "            for com in communities)\n",
        "\n",
        "# Density\n",
        "def calc_density(graph, communities):\n",
        "  \"\"\"\n",
        "    Calculates density of the clustered graph.\n",
        "\n",
        "    Args:\n",
        "      graph : A (un)directed graph\n",
        "      communities (list of lists): List of communities' lists\n",
        "\n",
        "    Returns:\n",
        "      Value of density.\n",
        "  \"\"\"\n",
        "  list_density = []\n",
        "  for com in communities:\n",
        "    sub = graph.subgraph(com)\n",
        "    list_density.append(nx.density(sub))\n",
        "  return np.mean(list_density)"
      ],
      "metadata": {
        "id": "AEAqg5Ju2PIk"
      },
      "execution_count": null,
      "outputs": []
    },
    {
      "cell_type": "markdown",
      "source": [
        "**PLOT FUNCTION**"
      ],
      "metadata": {
        "id": "-bDwbxNsDEly"
      }
    },
    {
      "cell_type": "code",
      "source": [
        "def plot_graph(graph, communities):\n",
        "\n",
        "  \"\"\"\n",
        "    Plots the graph along with the communities detected.\n",
        "\n",
        "    Args:\n",
        "      graph : A (un)directed graph\n",
        "      communities (list of lists): List of communities' lists\n",
        "\n",
        "    Returns:\n",
        "      -\n",
        "  \"\"\"\n",
        "\n",
        "  colors = ['skyblue', 'lightcoral', 'limegreen', 'mediumpurple', 'hotpink', 'gold']\n",
        "  pos = nx.spring_layout(graph)\n",
        "\n",
        "  plt.figure(figsize=(20, 15))\n",
        "  nx.draw_networkx_edges(graph, pos=pos, edge_color='darkgray')\n",
        "  for community, color in zip(communities, colors):\n",
        "      nx.draw_networkx_nodes(graph, pos=pos,\n",
        "                            nodelist=community, node_color=color, node_size=250)\n",
        "  nx.draw_networkx_labels(graph, pos=pos, font_size=9)\n",
        "  _ = plt.axis('off')\n",
        "  plt.show()"
      ],
      "metadata": {
        "id": "r2UK72xklsZZ"
      },
      "execution_count": null,
      "outputs": []
    },
    {
      "cell_type": "markdown",
      "source": [
        "**OTHER FUNCTIONS**"
      ],
      "metadata": {
        "id": "BfpvNga5DKK8"
      }
    },
    {
      "cell_type": "code",
      "source": [
        "def create_list_of_communities(dict_labels):\n",
        "\n",
        "  \"\"\"\n",
        "    Creates a list of lists given a dictionary of labels,\n",
        "    where each inner list respresents a community.\n",
        "\n",
        "    Args:\n",
        "      dict_labels (dictionary): A dictionary of labels which has the form\n",
        "          {key = nodes : value = label}. The labels' values are 0 or 1.\n",
        "\n",
        "    Returns:\n",
        "      list_communities (list of lists): List of communities' lists\n",
        "  \"\"\"\n",
        "\n",
        "  # Create a list with two inner empty lists\n",
        "  list_communities = [[],[]]\n",
        "  # Filter nodes' label\n",
        "  for node in dict_labels.keys():\n",
        "    if dict_labels[node] == 0:\n",
        "      # Community 0\n",
        "      list_communities[0].append(node)\n",
        "    elif dict_labels[node] == 1:\n",
        "      # Community 1\n",
        "      list_communities[1].append(node)\n",
        "    else:\n",
        "      continue\n",
        "\n",
        "  return list_communities"
      ],
      "metadata": {
        "id": "i8pp3hhH0cfQ"
      },
      "execution_count": null,
      "outputs": []
    },
    {
      "cell_type": "markdown",
      "source": [
        "**File's Graph**"
      ],
      "metadata": {
        "id": "MIMRtRoJm4fw"
      }
    },
    {
      "cell_type": "code",
      "source": [
        "filename = 'file.gml'\n",
        "\n",
        "# Read the directed graph from the .gml file\n",
        "G = nx.read_gml(filename, label='id')\n",
        "# Remove duplicates of edges\n",
        "H = nx.DiGraph(G)\n",
        "# Find the largest connected component of the graph\n",
        "H_lcc = max(nx.strongly_connected_components(H), key=len)\n",
        "# Create a subgraph using the set of nodes from the largest component\n",
        "H_subgraph = H.subgraph(H_lcc)\n",
        "\n",
        "H_nodes = len(H_subgraph.nodes())\n",
        "H_edges = H_subgraph.size()\n",
        "H_degrees = [H.degree(node) for node in H]\n",
        "print(\"Nodes:\", H_nodes)\n",
        "print(\"Edges:\", H_edges)"
      ],
      "metadata": {
        "id": "9l8xYY_8mRNI"
      },
      "execution_count": null,
      "outputs": []
    },
    {
      "cell_type": "code",
      "source": [
        "# Initialize number of nodes & number of edges to attach from a new node to existing nodes\n",
        "n = 1500\n",
        "m = int(sum(H_degrees) / (2 * H_nodes))\n",
        "\n",
        "# Number of clusters\n",
        "n_clusters = 2"
      ],
      "metadata": {
        "id": "gBt0Pd-g-06Z"
      },
      "execution_count": null,
      "outputs": []
    },
    {
      "cell_type": "markdown",
      "source": [
        "# First pair of m, p values"
      ],
      "metadata": {
        "id": "ow0YdD0fetEf"
      }
    },
    {
      "cell_type": "code",
      "source": [
        "p = 0.1\n",
        "F = nx.powerlaw_cluster_graph(n, m, p, seed=0)\n",
        "\n",
        "# Get the adjacency matrix from the graph\n",
        "adj_matrix = nx.to_numpy_array(F)\n",
        "\n",
        "# Clauset-Newman-Moore Greedy Modularity Maximization\n",
        "greedy_communities = list(nx.algorithms.community.greedy_modularity_communities(F))\n",
        "\n",
        "# Spectral Clustering\n",
        "model = SpectralClustering(n_clusters = n_clusters, affinity='precomputed')\n",
        "pred_labels = model.fit_predict(adj_matrix)\n",
        "pred_communities = {i : community for i, community in zip(F, pred_labels)}\n",
        "spec_communities = create_list_of_communities(pred_communities)\n",
        "\n",
        "# Evaluation Metrics\n",
        "print(\"EVALUATION METRICS\")\n",
        "print(\"----------------------------------------------------\")\n",
        "print(\"Clauset-Newman-Moore Greedy Modularity Maximization\")\n",
        "print(\"Modularity:\", calc_modularity(F, greedy_communities))\n",
        "print(\"Conductance:\", calc_conductance(F, greedy_communities))\n",
        "print(\"Density:\", calc_density(F, greedy_communities))\n",
        "print(\"----------------------------------------------------\")\n",
        "print(\"Spectral Clustering\")\n",
        "print(\"Modularity:\", calc_modularity(F, spec_communities))\n",
        "print(\"Conductance:\", calc_conductance(F, spec_communities))\n",
        "print(\"Density:\", calc_density(F, spec_communities))\n",
        "print(\"----------------------------------------------------\")"
      ],
      "metadata": {
        "id": "MxcpgaJFDf4A"
      },
      "execution_count": null,
      "outputs": []
    },
    {
      "cell_type": "markdown",
      "source": [
        "**Plot communities from Greedy Modularity Maximization**\n",
        "\n",
        "\n",
        "\n"
      ],
      "metadata": {
        "id": "bEw0XfCsjj4D"
      }
    },
    {
      "cell_type": "code",
      "source": [
        "plot_graph(F, greedy_communities)"
      ],
      "metadata": {
        "id": "-C_KpgCkeVQU"
      },
      "execution_count": null,
      "outputs": []
    },
    {
      "cell_type": "markdown",
      "source": [
        "**Plot communities from Spectral Clustering**"
      ],
      "metadata": {
        "id": "jJ7QNV1jjJOi"
      }
    },
    {
      "cell_type": "code",
      "source": [
        "plot_graph(F, spec_communities)"
      ],
      "metadata": {
        "id": "Nk5bS3hFeRHB"
      },
      "execution_count": null,
      "outputs": []
    },
    {
      "cell_type": "markdown",
      "source": [
        "# Second pair of m, p values"
      ],
      "metadata": {
        "id": "4vuvok21eoIP"
      }
    },
    {
      "cell_type": "code",
      "source": [
        "p = 0.5\n",
        "F = nx.powerlaw_cluster_graph(n, m, p, seed=0)\n",
        "\n",
        "# Get the adjacency matrix from the graph\n",
        "adj_matrix = nx.to_numpy_array(F)\n",
        "\n",
        "# Clauset-Newman-Moore Greedy Modularity Maximization\n",
        "greedy_communities = list(nx.algorithms.community.greedy_modularity_communities(F))\n",
        "\n",
        "# Spectral Clustering\n",
        "model = SpectralClustering(n_clusters = n_clusters, affinity='precomputed')\n",
        "pred_labels = model.fit_predict(adj_matrix)\n",
        "pred_communities = {i : community for i, community in zip(F, pred_labels)}\n",
        "spec_communities = create_list_of_communities(pred_communities)\n",
        "\n",
        "# Evaluation Metrics\n",
        "print(\"EVALUATION METRICS\")\n",
        "print(\"----------------------------------------------------\")\n",
        "print(\"Clauset-Newman-Moore Greedy Modularity Maximization\")\n",
        "print(\"Modularity:\", calc_modularity(F, greedy_communities))\n",
        "print(\"Conductance:\", calc_conductance(F, greedy_communities))\n",
        "print(\"Density:\", calc_density(F, greedy_communities))\n",
        "print(\"----------------------------------------------------\")\n",
        "print(\"Spectral Clustering\")\n",
        "print(\"Modularity:\", calc_modularity(F, spec_communities))\n",
        "print(\"Conductance:\", calc_conductance(F, spec_communities))\n",
        "print(\"Density:\", calc_density(F, spec_communities))\n",
        "print(\"----------------------------------------------------\")"
      ],
      "metadata": {
        "id": "S48o1PHwDqJp"
      },
      "execution_count": null,
      "outputs": []
    },
    {
      "cell_type": "markdown",
      "source": [
        "**Plot communities from Greedy Modularity Maximization**"
      ],
      "metadata": {
        "id": "lyRIRJd2jbIX"
      }
    },
    {
      "cell_type": "code",
      "source": [
        "plot_graph(F, greedy_communities)"
      ],
      "metadata": {
        "id": "l1HTyi1BeXmE"
      },
      "execution_count": null,
      "outputs": []
    },
    {
      "cell_type": "markdown",
      "source": [
        "**Plot communities from Spectral Clustering**"
      ],
      "metadata": {
        "id": "0sczUh_cjR0Q"
      }
    },
    {
      "cell_type": "code",
      "source": [
        "plot_graph(F, spec_communities)"
      ],
      "metadata": {
        "id": "VI5BsTS_eXbC"
      },
      "execution_count": null,
      "outputs": []
    },
    {
      "cell_type": "markdown",
      "source": [
        "# Third pair of m, p values"
      ],
      "metadata": {
        "id": "gRzGPJGSeh8E"
      }
    },
    {
      "cell_type": "code",
      "source": [
        "p = 0.9\n",
        "F = nx.powerlaw_cluster_graph(n, m, p, seed=0)\n",
        "\n",
        "# Get the adjacency matrix from the graph\n",
        "adj_matrix = nx.to_numpy_array(F)\n",
        "\n",
        "# Clauset-Newman-Moore Greedy Modularity Maximization\n",
        "greedy_communities = list(nx.algorithms.community.greedy_modularity_communities(F))\n",
        "\n",
        "# Spectral Clustering\n",
        "model = SpectralClustering(n_clusters = n_clusters, affinity='precomputed')\n",
        "pred_labels = model.fit_predict(adj_matrix)\n",
        "pred_communities = {i : community for i, community in zip(F, pred_labels)}\n",
        "spec_communities = create_list_of_communities(pred_communities)\n",
        "\n",
        "# Evaluation Metrics\n",
        "print(\"EVALUATION METRICS\")\n",
        "print(\"----------------------------------------------------\")\n",
        "print(\"Clauset-Newman-Moore Greedy Modularity Maximization\")\n",
        "print(\"Modularity:\", calc_modularity(F, greedy_communities))\n",
        "print(\"Conductance:\", calc_conductance(F, greedy_communities))\n",
        "print(\"Density:\", calc_density(F, greedy_communities))\n",
        "print(\"----------------------------------------------------\")\n",
        "print(\"Spectral Clustering\")\n",
        "print(\"Modularity:\", calc_modularity(F, spec_communities))\n",
        "print(\"Conductance:\", calc_conductance(F, spec_communities))\n",
        "print(\"Density:\", calc_density(F, spec_communities))\n",
        "print(\"----------------------------------------------------\")"
      ],
      "metadata": {
        "id": "WXb69_iSDws3"
      },
      "execution_count": null,
      "outputs": []
    },
    {
      "cell_type": "markdown",
      "source": [
        "**Plot communities from Greedy Modularity Maximization**"
      ],
      "metadata": {
        "id": "FTEkviRrjV1o"
      }
    },
    {
      "cell_type": "code",
      "source": [
        "plot_graph(F, greedy_communities)"
      ],
      "metadata": {
        "id": "g60EsfWZebQH"
      },
      "execution_count": null,
      "outputs": []
    },
    {
      "cell_type": "markdown",
      "source": [
        "**Plot communities from Spectral Clustering**"
      ],
      "metadata": {
        "id": "gYMWz-79jUCW"
      }
    },
    {
      "cell_type": "code",
      "source": [
        "plot_graph(F, spec_communities)"
      ],
      "metadata": {
        "id": "QT1DqRQPeccf"
      },
      "execution_count": null,
      "outputs": []
    }
  ]
}