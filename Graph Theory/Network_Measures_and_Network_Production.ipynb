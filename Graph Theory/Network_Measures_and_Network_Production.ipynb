{
  "nbformat": 4,
  "nbformat_minor": 0,
  "metadata": {
    "colab": {
      "provenance": []
    },
    "kernelspec": {
      "name": "python3",
      "display_name": "Python 3"
    },
    "language_info": {
      "name": "python"
    }
  },
  "cells": [
    {
      "cell_type": "code",
      "execution_count": null,
      "metadata": {
        "id": "SxfICR_sqS5T"
      },
      "outputs": [],
      "source": [
        "import networkx as nx\n",
        "import pandas as pd\n",
        "import numpy as np\n",
        "import matplotlib.pyplot as plt"
      ]
    },
    {
      "cell_type": "markdown",
      "source": [
        "# First File"
      ],
      "metadata": {
        "id": "hWHNwIX3hmI1"
      }
    },
    {
      "cell_type": "markdown",
      "source": [
        "**Network Measures**"
      ],
      "metadata": {
        "id": "i0kTmvAj-KcD"
      }
    },
    {
      "cell_type": "code",
      "source": [
        "G1 = nx.read_edgelist('file1.txt', create_using = nx.DiGraph())"
      ],
      "metadata": {
        "id": "Qgp-Tr-ld1Ss"
      },
      "execution_count": null,
      "outputs": []
    },
    {
      "cell_type": "code",
      "source": [
        "# Find the number of nodes\n",
        "N1 = len(G1)\n",
        "print(\"Number of nodes:\", N1)\n",
        "\n",
        "#---------------------------------------------------------------\n",
        "# Find the number of nodes with self-loops\n",
        "G1_self_loops = list(nx.nodes_with_selfloops(G1))\n",
        "print(\"Nodes with self-loops:\", G1_self_loops)\n",
        "\n",
        "#---------------------------------------------------------------\n",
        "#Find the number fo edges\n",
        "L1 = G1.size()\n",
        "print(\"Number of edges: \", L1)\n",
        "\n",
        "#---------------------------------------------------------------\n",
        "# Find the number of reciprocated edges\n",
        "G1_reciprocity = int(nx.algorithms.reciprocity(G1) * L1)\n",
        "print(\"Number of reciprocated edges:\", G1_reciprocity)\n",
        "\n",
        "#---------------------------------------------------------------\n",
        "# Find the number of sink and source nodes\n",
        "G1_sink_nodes = len([node for node in G1 if G1.out_degree(node) == 0])\n",
        "print(\"Number of sink nodes:\", G1_sink_nodes)\n",
        "\n",
        "G1_source_nodes = len([node for node in G1 if G1.in_degree(node) == 0])\n",
        "print(\"Number of source nodes:\", G1_source_nodes)\n",
        "\n",
        "#---------------------------------------------------------------\n",
        "# Find the minimum, maximum and average degree\n",
        "G1_degrees = [G1.degree(node) for node in G1]\n",
        "G1_min_degree = min(G1_degrees)\n",
        "print(\"Minimum degree: \", G1_min_degree)\n",
        "\n",
        "G1_max_degree = max(G1_degrees)\n",
        "print(\"Maximum degree: \", G1_max_degree)\n",
        "\n",
        "G1_avg_degree = sum(G1_degrees) / N1\n",
        "print(\"Average degree: \", G1_avg_degree)\n",
        "\n",
        "#---------------------------------------------------------------\n",
        "# Find the minimum, maximum and average degree of the incoming edges\n",
        "G1_incoming_degrees = [G1.in_degree(node) for node in G1]\n",
        "G1_max_incoming_degrees = max(G1_incoming_degrees)\n",
        "print(\"Max incoming degree:\", G1_max_incoming_degrees)\n",
        "\n",
        "G1_min_incoming_degrees = min(G1_incoming_degrees)\n",
        "print(\"Min incoming degree:\", G1_min_incoming_degrees)\n",
        "\n",
        "G1_avg_incoming_degrees = sum(G1_incoming_degrees) / N1\n",
        "print(\"Average incoming degree:\", G1_avg_incoming_degrees)\n",
        "\n",
        "#---------------------------------------------------------------\n",
        "# Find the minimum, maximum and average degree of the outgoing edges\n",
        "G1_outgoing_degrees = [G1.out_degree(node) for node in G1]\n",
        "G1_max_outgoing_degrees = max(G1_outgoing_degrees)\n",
        "print(\"Max outgoing degree:\", G1_max_incoming_degrees)\n",
        "\n",
        "G1_min_outgoing_degrees = min(G1_outgoing_degrees)\n",
        "print(\"Min outgoing degree:\", G1_min_outgoing_degrees)\n",
        "\n",
        "G1_avg_outgoing_degrees = sum(G1_outgoing_degrees) / N1\n",
        "print(\"Average outgoing degree:\", G1_avg_outgoing_degrees)"
      ],
      "metadata": {
        "id": "wbcFj6An5Z6X"
      },
      "execution_count": null,
      "outputs": []
    },
    {
      "cell_type": "code",
      "source": [
        "# Find weakly connected components\n",
        "G1_wcc = list(nx.weakly_connected_components(G1))\n",
        "\n",
        "# Compute the longest path in each strongly connected component\n",
        "longest_path_lengths = []\n",
        "for component in G1_wcc:\n",
        "    # Create a subgraph induced by the nodes in the component\n",
        "    subgraph = G1.subgraph(component).to_undirected()\n",
        "\n",
        "    # Compute the longest path length in the subgraph\n",
        "    longest_path_lengths.append(nx.diameter(subgraph))\n",
        "\n",
        "G1_diameter = max(longest_path_lengths)\n",
        "# Print the maximum longest path length as the diameter of the graph\n",
        "print(\"Diameter:\", G1_diameter)"
      ],
      "metadata": {
        "id": "GXpNIVzi5r9o"
      },
      "execution_count": null,
      "outputs": []
    },
    {
      "cell_type": "code",
      "source": [
        "#Find the average and global clustering coefficient\n",
        "G1_avg_clustering = 2 * sum(nx.clustering(G1).values()) / len(nx.clustering(G1))\n",
        "print(\"Average clustering coefficient:\", G1_avg_clustering)\n",
        "\n",
        "# Number of triangles\n",
        "#G1_num_of_triangles = sum(nx.triangles(G1.to_undirected()).values())/3\n",
        "\n",
        "G1_global_clustering = 2 * nx.transitivity(G1)\n",
        "print(\"Global clustering coefficient:\", G1_global_clustering)\n",
        "\n",
        "#---------------------------------------------------------------\n",
        "# Find strongly connected components\n",
        "G1_scc = list(nx.strongly_connected_components(G1))\n",
        "\n",
        "# Filter for longest components\n",
        "G1_longest_scc  = max(len(component) for component in G1_scc)\n",
        "\n",
        "print(\"Number of nodes in the longest strongly connected components:\", G1_longest_scc)\n",
        "\n",
        "# Compute the number of edges for each component\n",
        "num_edges = dict()\n",
        "for component in G1_scc:\n",
        "    subgraph = G1.subgraph(component)\n",
        "    #Immutable set of components\n",
        "    num_edges[frozenset(component)] = subgraph.size()\n",
        "\n",
        "# Find the maximum number of edges\n",
        "G1_max_num_edges_scc = max(num_edges.values())\n",
        "\n",
        "print(\"Number of edges in the longest strongly connected components:\", G1_max_num_edges_scc)\n",
        "\n",
        "#---------------------------------------------------------------\n",
        "# Filter for longest components\n",
        "# Weakly connected components are already calculated\n",
        "G1_longest_wcc  = max(len(component) for component in G1_wcc)\n",
        "print(\"Number of nodes in the longest weakly connected components:\", G1_longest_wcc)\n",
        "\n",
        "# Compute the number of edges for each component\n",
        "num_edges = dict()\n",
        "for component in G1_wcc:\n",
        "    subgraph = G1.subgraph(component)\n",
        "    #Immutable set of components\n",
        "    num_edges[frozenset(component)] = subgraph.size()\n",
        "\n",
        "# Find the maximum number of edges\n",
        "G1_max_num_edges_wcc = max(num_edges.values())\n",
        "\n",
        "print(\"Number of edges in the longest weakly connected components:\", G1_max_num_edges_wcc)\n"
      ],
      "metadata": {
        "id": "VtFW5RDvn5QT"
      },
      "execution_count": null,
      "outputs": []
    },
    {
      "cell_type": "markdown",
      "source": [
        "**Network Visualization**"
      ],
      "metadata": {
        "id": "BdPnw8lm-y5U"
      }
    },
    {
      "cell_type": "code",
      "source": [
        "# Count the number of occurrences of each degree\n",
        "in_degree_freq = np.bincount(np.array(G1_incoming_degrees))\n",
        "out_degree_freq = np.bincount(np.array(G1_outgoing_degrees))"
      ],
      "metadata": {
        "id": "vKkpnvUfH-Ol"
      },
      "execution_count": null,
      "outputs": []
    },
    {
      "cell_type": "code",
      "source": [
        "# Plot degree distribution using linear scale\n",
        "plt.plot(in_degree_freq, marker = 'o', alpha=0.5, color = '#1f77b4', label=\"in-degree\")\n",
        "plt.plot(out_degree_freq, marker = 'o', alpha=0.5, color = '#d62728', label=\"out-degree\")\n",
        "plt.legend()\n",
        "plt.title(\"Degree Distribution in Linear Scale\")\n",
        "plt.xlabel(\"Degree\")\n",
        "plt.ylabel(\"Frequency\")\n",
        "plt.show()"
      ],
      "metadata": {
        "id": "4-a0WXo8I8K_"
      },
      "execution_count": null,
      "outputs": []
    },
    {
      "cell_type": "code",
      "source": [
        "# Plot degree distribution using log-log scale\n",
        "# x-axis and y-axis are plotted on a logarithmic scale\n",
        "plt.loglog(in_degree_freq,  marker = 'o', linestyle='',\n",
        "           alpha=0.5, color = '#1f77b4', label=\"in-degree\")\n",
        "plt.loglog(out_degree_freq, marker = 'o', linestyle='',\n",
        "           alpha=0.5, color = '#d62728', label=\"out-degree\")\n",
        "plt.legend()\n",
        "plt.xlabel('Degree')\n",
        "plt.ylabel('Frequency')\n",
        "plt.title('Log-Log Plot of Degree Distribution')\n",
        "plt.show()"
      ],
      "metadata": {
        "id": "mIQzm4PuIpYZ"
      },
      "execution_count": null,
      "outputs": []
    },
    {
      "cell_type": "code",
      "source": [
        "# Get 10 logarithmically spaced bins between min and max degree\n",
        "bin_edges = np.logspace(np.log10(1), np.log10(G1_max_degree), num=10)\n",
        "\n",
        "# histogram the data into these bins\n",
        "in_density, _ = np.histogram(G1_incoming_degrees, bins=bin_edges, density=True)\n",
        "out_density, _ = np.histogram(G1_outgoing_degrees, bins=bin_edges, density=True)\n",
        "\n",
        "fig = plt.figure(figsize=(6,4))\n",
        "\n",
        "# \"x\" should be midpoint (IN LOG SPACE) of each bin\n",
        "log_be = np.log10(bin_edges)\n",
        "x = 10**((log_be[1:] + log_be[:-1])/2)\n",
        "\n",
        "plt.loglog(x, in_density, marker = \"o\", alpha = 0.5, color = '#1f77b4', linestyle=\"none\", label = \"in-degree\")\n",
        "plt.loglog(x, out_density, marker = \"o\", alpha=0.5, color = '#d62728', linestyle=\"none\", label = \"out-degree\")\n",
        "plt.title('Log-Log Plot of Degree Distribution with Logarithmic Binning')\n",
        "plt.xlabel(r\"Degree $k$\", fontsize=16)\n",
        "plt.ylabel(r\"$P(k)$\", fontsize=16)\n",
        "plt.legend()\n",
        "\n",
        "# remove right and top boundaries because they're ugly\n",
        "ax = plt.gca()\n",
        "ax.spines['right'].set_visible(False)\n",
        "ax.spines['top'].set_visible(False)\n",
        "ax.yaxis.set_ticks_position('left')\n",
        "ax.xaxis.set_ticks_position('bottom')\n",
        "\n",
        "# Show the plot\n",
        "plt.show()"
      ],
      "metadata": {
        "id": "QMGJm3SCjfz7"
      },
      "execution_count": null,
      "outputs": []
    },
    {
      "cell_type": "markdown",
      "source": [
        "# Second File"
      ],
      "metadata": {
        "id": "Si2mMbOahqCP"
      }
    },
    {
      "cell_type": "markdown",
      "source": [
        "**Network Measures**"
      ],
      "metadata": {
        "id": "yx3lwv8EBi5L"
      }
    },
    {
      "cell_type": "code",
      "source": [
        "G2 = nx.read_edgelist('file2.txt')"
      ],
      "metadata": {
        "id": "KFFX5RUpefUP"
      },
      "execution_count": null,
      "outputs": []
    },
    {
      "cell_type": "code",
      "source": [
        "# Find the number of nodes\n",
        "N2 = len(G2)\n",
        "print(\"Number of nodes:\", N2)\n",
        "\n",
        "#---------------------------------------------------------------\n",
        "# Find the number of nodes with self-loops\n",
        "G2_self_loops = list(nx.nodes_with_selfloops(G2))\n",
        "print(\"Nodes with self-loops:\", G2_self_loops)\n",
        "\n",
        "#---------------------------------------------------------------\n",
        "#Find the number fo edges\n",
        "L2 = G2.size()\n",
        "print(\"Number of edges: \", L2)\n",
        "\n",
        "#---------------------------------------------------------------\n",
        "# Find the minimum, maximum and average degree\n",
        "G2_degrees = [G2.degree(node) for node in G2]\n",
        "G2_max_degree = max(G2_degrees)\n",
        "print(\"Maximum degree: \", G2_max_degree)\n",
        "\n",
        "G2_min_degree = min(G2_degrees)\n",
        "print(\"Minimum degree: \", G2_min_degree)\n",
        "\n",
        "G2_avg_degree = sum(G2_degrees) / N2\n",
        "print(\"Average degree: \", G2_avg_degree)\n",
        "\n",
        "#---------------------------------------------------------------\n",
        "# Find connected components\n",
        "G2_cc = list(nx.connected_components(G2))\n",
        "\n",
        "# Compute the longest path in each strongly connected component\n",
        "longest_path_lengths = []\n",
        "for component in G2_cc:\n",
        "    # Create a subgraph induced by the nodes in the component\n",
        "    subgraph = G2.subgraph(component)\n",
        "\n",
        "    # Compute the longest path length in the subgraph\n",
        "    longest_path_lengths.append(nx.diameter(subgraph))\n",
        "\n",
        "G2_diameter = max(longest_path_lengths)\n",
        "# Print the maximum longest path length as the diameter of the graph\n",
        "print(\"Diameter:\", G2_diameter)\n",
        "\n",
        "#---------------------------------------------------------------\n",
        "#Find the average and global clustering coefficient\n",
        "G2_avg_clustering = sum(nx.clustering(G2).values()) / len(nx.clustering(G2))\n",
        "print(\"Average clustering coefficient:\", G2_avg_clustering)\n",
        "\n",
        "#G2_num_of_triangles = sum(nx.triangles(G2.to_undirected()).values())/3\n",
        "G2_global_clustering = nx.transitivity(G2)\n",
        "print(\"Global clustering coefficient:\", G2_global_clustering)\n",
        "\n",
        "#---------------------------------------------------------------\n",
        "# Filter for longest components\n",
        "G2_longest_cc  = max(len(component) for component in G2_cc)\n",
        "\n",
        "print(\"Number of nodes in the longest connected components:\", G2_longest_cc)\n",
        "\n",
        "# Compute the number of edges for each component\n",
        "num_edges = dict()\n",
        "for component in G2_cc:\n",
        "    subgraph = G2.subgraph(component)\n",
        "    #Immutable set of components\n",
        "    num_edges[frozenset(component)] = subgraph.size()\n",
        "\n",
        "# Find the maximum number of edges\n",
        "G2_max_num_edges = max(num_edges.values())\n",
        "\n",
        "print(\"Number of edges in the longest connected components:\", G2_max_num_edges)"
      ],
      "metadata": {
        "id": "3IcbrJPjnzqT"
      },
      "execution_count": null,
      "outputs": []
    },
    {
      "cell_type": "markdown",
      "source": [
        "**Network Visualization**"
      ],
      "metadata": {
        "id": "VxvC0i6iZJjG"
      }
    },
    {
      "cell_type": "code",
      "source": [
        "# Count the number of occurrences of each degree\n",
        "degree_freq = np.bincount(np.array(G2_degrees))"
      ],
      "metadata": {
        "id": "LX-sNRRLZXv_"
      },
      "execution_count": null,
      "outputs": []
    },
    {
      "cell_type": "code",
      "source": [
        "# Plot degree distribution using linear scale\n",
        "plt.plot(degree_freq, marker = 'o', alpha=0.5, color = '#1f77b4')\n",
        "plt.title(\"Degree Distribution in Linear Scale\")\n",
        "plt.xlabel(\"Degree\")\n",
        "plt.ylabel(\"Frequency\")\n",
        "plt.show()"
      ],
      "metadata": {
        "id": "3EJIKLdWZN5q"
      },
      "execution_count": null,
      "outputs": []
    },
    {
      "cell_type": "code",
      "source": [
        "# Plot degree distribution using log-log scale\n",
        "plt.loglog(degree_freq,  marker = 'o', linestyle='',\n",
        "           alpha=0.5, color = '#1f77b4')\n",
        "plt.xlabel('Degree')\n",
        "plt.ylabel('Frequency')\n",
        "plt.title('Log-Log Plot of Degree Distribution')\n",
        "plt.show()"
      ],
      "metadata": {
        "id": "kdIF4o61ZNxB"
      },
      "execution_count": null,
      "outputs": []
    },
    {
      "cell_type": "code",
      "source": [
        "# Get 10 logarithmically spaced bins between min and max degree\n",
        "bin_edges = np.logspace(np.log10(1), np.log10(G2_max_degree), num=10)\n",
        "\n",
        "# histogram the data into these bins\n",
        "density, _ = np.histogram(G2_degrees, bins=bin_edges, density=True)\n",
        "\n",
        "fig = plt.figure(figsize=(6,4))\n",
        "\n",
        "# \"x\" should be midpoint (IN LOG SPACE) of each bin\n",
        "log_be = np.log10(bin_edges)\n",
        "x = 10**((log_be[1:] + log_be[:-1])/2)\n",
        "\n",
        "plt.loglog(x, density, marker = \"o\", alpha = 0.5, color = '#1f77b4', linestyle=\"none\")\n",
        "plt.title('Log-Log Plot of Degree Distribution with Logarithmic Binning')\n",
        "plt.xlabel(r\"Degree $k$\", fontsize=16)\n",
        "plt.ylabel(r\"$P(k)$\", fontsize=16)\n",
        "\n",
        "# remove right and top boundaries because they're ugly\n",
        "ax = plt.gca()\n",
        "ax.spines['right'].set_visible(False)\n",
        "ax.spines['top'].set_visible(False)\n",
        "ax.yaxis.set_ticks_position('left')\n",
        "ax.xaxis.set_ticks_position('bottom')\n",
        "\n",
        "# Show the plot\n",
        "plt.show()"
      ],
      "metadata": {
        "id": "z2XHOIZFpq53"
      },
      "execution_count": null,
      "outputs": []
    },
    {
      "cell_type": "markdown",
      "source": [
        "# Erdös-Renyi Random Graphs"
      ],
      "metadata": {
        "id": "4i34jPQnH3hm"
      }
    },
    {
      "cell_type": "code",
      "source": [
        "# Choose similar parameters with the second network\n",
        "# Number of nodes and edges of G2\n",
        "n = len(G2)\n",
        "m = G2.size()\n",
        "\n",
        "# Edge probability\n",
        "p = 2 * m / (n * (n-1))\n",
        "\n",
        "nodes = 5200\n",
        "seed = 100 # Seed for random number generator\n",
        "\n",
        "G_erdos = nx.erdos_renyi_graph(nodes, p, seed, directed=False)"
      ],
      "metadata": {
        "id": "0pR61eHaS5nn"
      },
      "execution_count": null,
      "outputs": []
    },
    {
      "cell_type": "markdown",
      "source": [
        "**Network Measures**"
      ],
      "metadata": {
        "id": "0NY33r1HBmc0"
      }
    },
    {
      "cell_type": "code",
      "source": [
        "# Find the number of nodes\n",
        "N3 = len(G_erdos)\n",
        "print(\"Number of nodes:\", N3)\n",
        "\n",
        "#---------------------------------------------------------------\n",
        "# Find the number of nodes with self-loops\n",
        "G_erdos_self_loops = list(nx.nodes_with_selfloops(G_erdos))\n",
        "print(\"Nodes with self-loops:\", G_erdos_self_loops)\n",
        "\n",
        "#---------------------------------------------------------------\n",
        "#Find the number fo edges\n",
        "L3 = G_erdos.size()\n",
        "print(\"Number of edges: \", L3)\n",
        "\n",
        "#---------------------------------------------------------------\n",
        "# Find the minimum, maximum and average degree\n",
        "G_erdos_degrees = [G_erdos.degree(node) for node in G_erdos]\n",
        "G_erdos_max_degree = max(G_erdos_degrees)\n",
        "print(\"Maximum degree: \", G_erdos_max_degree)\n",
        "\n",
        "G_erdos_min_degree = min(G_erdos_degrees)\n",
        "print(\"Minimum degree: \", G_erdos_min_degree)\n",
        "\n",
        "G_erdos_avg_degree = sum(G_erdos_degrees) / N3\n",
        "print(\"Average degree: \", G_erdos_avg_degree)\n",
        "\n",
        "#---------------------------------------------------------------\n",
        "#Find the average and global clustering coefficient\n",
        "G_erdos_avg_clustering = sum(nx.clustering(G_erdos).values()) / len(nx.clustering(G_erdos))\n",
        "print(\"Average clustering coefficient:\", G_erdos_avg_clustering)\n",
        "\n",
        "G_erdos_global_clustering = nx.transitivity(G_erdos)\n",
        "print(\"Global clustering coefficient:\", G_erdos_global_clustering)\n",
        "\n",
        "#---------------------------------------------------------------\n",
        "# Find weakly connected components\n",
        "G_erdos_cc = list(nx.connected_components(G_erdos))\n",
        "\n",
        "# Compute the longest path in each strongly connected component\n",
        "longest_path_lengths = []\n",
        "for component in G_erdos_cc:\n",
        "    # Create a subgraph induced by the nodes in the component\n",
        "    subgraph = G_erdos.subgraph(component)\n",
        "\n",
        "    # Compute the longest path length in the subgraph\n",
        "    longest_path_lengths.append(nx.diameter(subgraph))\n",
        "\n",
        "G_erdos_diameter = max(longest_path_lengths)\n",
        "# Print the maximum longest path length as the diameter of the graph\n",
        "print(\"Diameter:\", G_erdos_diameter)\n",
        "\n",
        "#---------------------------------------------------------------\n",
        "# Filter for longest components\n",
        "G_erdos_longest_cc  = max(len(component) for component in G_erdos_cc)\n",
        "\n",
        "print(\"Number of nodes in the longest connected components:\", G_erdos_longest_cc)\n",
        "\n",
        "# Compute the number of edges for each component\n",
        "num_edges = dict()\n",
        "for component in G_erdos_cc:\n",
        "    subgraph = G_erdos.subgraph(component)\n",
        "    #Immutable set of components\n",
        "    num_edges[frozenset(component)] = subgraph.size()\n",
        "\n",
        "# Find the maximum number of edges\n",
        "G_erdos_max_num_edges = max(num_edges.values())\n",
        "\n",
        "print(\"Number of edges in the longest connected components:\", G_erdos_max_num_edges)"
      ],
      "metadata": {
        "id": "TyAuoz-pH4qG"
      },
      "execution_count": null,
      "outputs": []
    },
    {
      "cell_type": "markdown",
      "source": [
        "**Network Visualization**"
      ],
      "metadata": {
        "id": "eI2_Tzjv_gCH"
      }
    },
    {
      "cell_type": "code",
      "source": [
        "# Count the number of occurrences of each degree\n",
        "degree_freq = np.bincount(np.array(G_erdos_degrees))"
      ],
      "metadata": {
        "id": "kIzee1-8_gCH"
      },
      "execution_count": null,
      "outputs": []
    },
    {
      "cell_type": "code",
      "source": [
        "# Plot degree distribution using linear scale\n",
        "plt.plot(degree_freq, marker = 'o', alpha=0.5, color = '#1f77b4')\n",
        "plt.title(\"Degree Distribution in Linear Scale\")\n",
        "plt.xlabel(\"Degree\")\n",
        "plt.ylabel(\"Frequency\")\n",
        "plt.show()"
      ],
      "metadata": {
        "id": "6qxBABB3_gCI"
      },
      "execution_count": null,
      "outputs": []
    },
    {
      "cell_type": "code",
      "source": [
        "# Plot degree distribution using log-log scale\n",
        "plt.loglog(degree_freq,  marker = 'o', linestyle='',\n",
        "           alpha=0.5, color = '#1f77b4')\n",
        "plt.xlabel('Degree')\n",
        "plt.ylabel('Frequency')\n",
        "plt.title('Log-Log Plot of Degree Distribution')\n",
        "plt.show()"
      ],
      "metadata": {
        "id": "K29AdLTW_gCI"
      },
      "execution_count": null,
      "outputs": []
    },
    {
      "cell_type": "code",
      "source": [
        "# Get 10 logarithmically spaced bins between min and max degree\n",
        "bin_edges = np.logspace(np.log10(1), np.log10(G_erdos_max_degree), num=10)\n",
        "\n",
        "# histogram the data into these bins\n",
        "density, _ = np.histogram(G_erdos_degrees, bins=bin_edges, density=True)\n",
        "\n",
        "fig = plt.figure(figsize=(6,4))\n",
        "\n",
        "# \"x\" should be midpoint (IN LOG SPACE) of each bin\n",
        "log_be = np.log10(bin_edges)\n",
        "x = 10**((log_be[1:] + log_be[:-1])/2)\n",
        "\n",
        "plt.loglog(x, density, marker = \"o\", alpha = 0.5, color = '#1f77b4', linestyle=\"none\")\n",
        "plt.title('Log-Log Plot of Degree Distribution with Logarithmic Binning')\n",
        "plt.xlabel(r\"Degree $k$\", fontsize=16)\n",
        "plt.ylabel(r\"$P(k)$\", fontsize=16)\n",
        "\n",
        "# remove right and top boundaries because they're ugly\n",
        "ax = plt.gca()\n",
        "ax.spines['right'].set_visible(False)\n",
        "ax.spines['top'].set_visible(False)\n",
        "ax.yaxis.set_ticks_position('left')\n",
        "ax.xaxis.set_ticks_position('bottom')\n",
        "\n",
        "# Show the plot\n",
        "plt.show()"
      ],
      "metadata": {
        "id": "JeMcsSI3suRZ"
      },
      "execution_count": null,
      "outputs": []
    },
    {
      "cell_type": "markdown",
      "source": [
        "# Watts and Strogatz Model"
      ],
      "metadata": {
        "id": "UZ-ss-NFRBT1"
      }
    },
    {
      "cell_type": "code",
      "source": [
        "# Calculate the number of nearest neighbors each node is connected to in ring topology\n",
        "k = 6\n",
        "p = 0.1\n",
        "\n",
        "G_watts_str = nx.watts_strogatz_graph(nodes, k, p, seed)"
      ],
      "metadata": {
        "id": "TFGr3QSIutIE"
      },
      "execution_count": null,
      "outputs": []
    },
    {
      "cell_type": "markdown",
      "source": [
        "**Network Measures**"
      ],
      "metadata": {
        "id": "6Vv0e5ftBnor"
      }
    },
    {
      "cell_type": "code",
      "source": [
        "# Find the number of nodes\n",
        "N4 = len(G_watts_str)\n",
        "print(\"Number of nodes:\", N4)\n",
        "\n",
        "#---------------------------------------------------------------\n",
        "# Find the number of nodes with self-loops\n",
        "G_watts_str_self_loops = list(nx.nodes_with_selfloops(G_watts_str))\n",
        "print(\"Nodes with self-loops:\", G_watts_str_self_loops)\n",
        "\n",
        "#---------------------------------------------------------------\n",
        "#Find the number fo edges\n",
        "L4 = G_watts_str.size()\n",
        "print(\"Number of edges: \", L4)\n",
        "\n",
        "#---------------------------------------------------------------\n",
        "# Find the minimum, maximum and average degree\n",
        "G_watts_str_degrees = [G_watts_str.degree(node) for node in G_watts_str]\n",
        "G_watts_str_max_degree = max(G_watts_str_degrees)\n",
        "print(\"Maximum degree: \", G_watts_str_max_degree)\n",
        "\n",
        "G_watts_str_min_degree = min(G_watts_str_degrees)\n",
        "print(\"Minimum degree: \", G_watts_str_min_degree)\n",
        "\n",
        "G_watts_str_avg_degree = sum(G_watts_str_degrees) / N4\n",
        "print(\"Average degree: \", G_watts_str_avg_degree)\n",
        "\n",
        "#---------------------------------------------------------------\n",
        "# Find connected components\n",
        "G_watts_str_cc = list(nx.connected_components(G_watts_str))\n",
        "\n",
        "# Compute the longest path in each strongly connected component\n",
        "longest_path_lengths = []\n",
        "for component in G_watts_str_cc:\n",
        "    # Create a subgraph induced by the nodes in the component\n",
        "    subgraph = G_watts_str.subgraph(component)\n",
        "\n",
        "    # Compute the longest path length in the subgraph\n",
        "    longest_path_lengths.append(nx.diameter(subgraph))\n",
        "\n",
        "G_watts_str_diameter = max(longest_path_lengths)\n",
        "# Print the maximum longest path length as the diameter of the graph\n",
        "print(\"Diameter:\", G_watts_str_diameter)\n",
        "\n",
        "#---------------------------------------------------------------\n",
        "#Find the average and global clustering coefficient\n",
        "G_watts_str_avg_clustering = sum(nx.clustering(G_watts_str).values()) / len(nx.clustering(G_watts_str))\n",
        "print(\"Average clustering coefficient:\", G_watts_str_avg_clustering)\n",
        "\n",
        "G_watts_str_global_clustering = nx.transitivity(G_watts_str)\n",
        "print(\"Global clustering coefficient:\", G_watts_str_global_clustering)\n",
        "\n",
        "#---------------------------------------------------------------\n",
        "# Filter for longest components\n",
        "G_watts_str_longest_cc  = max(len(component) for component in G_watts_str_cc)\n",
        "\n",
        "print(\"Number of nodes in the longest connected components:\", G_watts_str_longest_cc)\n",
        "\n",
        "# Compute the number of edges for each component\n",
        "num_edges = dict()\n",
        "for component in G_watts_str_cc:\n",
        "    subgraph = G_watts_str.subgraph(component)\n",
        "    #Immutable set of components\n",
        "    num_edges[frozenset(component)] = subgraph.size()\n",
        "\n",
        "# Find the maximum number of edges\n",
        "G_watts_str_max_num_edges = max(num_edges.values())\n",
        "\n",
        "print(\"Number of edges in the longest connected components:\", G_watts_str_max_num_edges)"
      ],
      "metadata": {
        "id": "RUUOb1O7xrm8"
      },
      "execution_count": null,
      "outputs": []
    },
    {
      "cell_type": "markdown",
      "source": [
        "**Network Visualization**"
      ],
      "metadata": {
        "id": "B7xOamQXDVj2"
      }
    },
    {
      "cell_type": "code",
      "source": [
        "# Count the number of occurrences of each degree\n",
        "degree_freq = np.bincount(np.array(G_watts_str_degrees))"
      ],
      "metadata": {
        "id": "o04wTWTCDVj3"
      },
      "execution_count": null,
      "outputs": []
    },
    {
      "cell_type": "code",
      "source": [
        "# Plot degree distribution using linear scale\n",
        "plt.plot(degree_freq, marker = 'o', alpha=0.5, color = '#1f77b4')\n",
        "plt.title(\"Degree Distribution in Linear Scale\")\n",
        "plt.xlabel(\"Degree\")\n",
        "plt.ylabel(\"Frequency\")\n",
        "plt.show()"
      ],
      "metadata": {
        "id": "TLlXUYobDVj4"
      },
      "execution_count": null,
      "outputs": []
    },
    {
      "cell_type": "code",
      "source": [
        "# Plot degree distribution using log-log scale\n",
        "plt.loglog(degree_freq,  marker = 'o', linestyle='',\n",
        "           alpha=0.5, color = '#1f77b4')\n",
        "plt.xlabel('Degree')\n",
        "plt.ylabel('Frequency')\n",
        "plt.title('Log-Log Plot of Degree Distribution')\n",
        "plt.show()"
      ],
      "metadata": {
        "id": "RpH5cUo9DVj5"
      },
      "execution_count": null,
      "outputs": []
    },
    {
      "cell_type": "code",
      "source": [
        "# Get 10 logarithmically spaced bins between min and max degree\n",
        "bin_edges = np.logspace(np.log10(1), np.log10(G_watts_str_max_degree), num=10)\n",
        "\n",
        "# histogram the data into these bins\n",
        "density, _ = np.histogram(G_watts_str_degrees, bins=bin_edges, density=True)\n",
        "\n",
        "fig = plt.figure(figsize=(6,4))\n",
        "\n",
        "# \"x\" should be midpoint (IN LOG SPACE) of each bin\n",
        "log_be = np.log10(bin_edges)\n",
        "x = 10**((log_be[1:] + log_be[:-1])/2)\n",
        "\n",
        "plt.loglog(x, density, marker = \"o\", alpha = 0.5, color = '#1f77b4', linestyle=\"none\")\n",
        "plt.title('Log-Log Plot of Degree Distribution with Logarithmic Binning')\n",
        "plt.xlabel(r\"Degree $k$\", fontsize=16)\n",
        "plt.ylabel(r\"$P(k)$\", fontsize=16)\n",
        "\n",
        "# remove right and top boundaries because they're ugly\n",
        "ax = plt.gca()\n",
        "ax.spines['right'].set_visible(False)\n",
        "ax.spines['top'].set_visible(False)\n",
        "ax.yaxis.set_ticks_position('left')\n",
        "ax.xaxis.set_ticks_position('bottom')\n",
        "\n",
        "# Show the plot\n",
        "plt.show()"
      ],
      "metadata": {
        "id": "npomc-tSDVj6"
      },
      "execution_count": null,
      "outputs": []
    },
    {
      "cell_type": "markdown",
      "source": [
        "# Barabasi-Albert Model (undirected graph)"
      ],
      "metadata": {
        "id": "xXxkGNqMUopj"
      }
    },
    {
      "cell_type": "code",
      "source": [
        "# Number of edges to attach from a new node to existing nodes\n",
        "m = int(sum(G2_degrees) / (2 * N2))\n",
        "\n",
        "G_bar_alb = nx.barabasi_albert_graph(nodes, m, seed)"
      ],
      "metadata": {
        "id": "eXcW2jcn1QfL"
      },
      "execution_count": null,
      "outputs": []
    },
    {
      "cell_type": "markdown",
      "source": [
        "**Network Measures**"
      ],
      "metadata": {
        "id": "_W8bz-xKBom8"
      }
    },
    {
      "cell_type": "code",
      "source": [
        "# Find the number of nodes\n",
        "N5 = len(G_bar_alb)\n",
        "print(\"Number of nodes:\", N5)\n",
        "\n",
        "#---------------------------------------------------------------\n",
        "# Find the number of nodes with self-loops\n",
        "G_bar_alb_self_loops = list(nx.nodes_with_selfloops(G_bar_alb))\n",
        "print(\"Nodes with self-loops:\", G_bar_alb_self_loops)\n",
        "\n",
        "#---------------------------------------------------------------\n",
        "#Find the number fo edges\n",
        "L5 = G_bar_alb.size()\n",
        "print(\"Number of edges: \", L5)\n",
        "\n",
        "#---------------------------------------------------------------\n",
        "# Find the minimum, maximum and average degree\n",
        "G_bar_alb_degrees = [G_bar_alb.degree(node) for node in G_bar_alb]\n",
        "G_bar_alb_max_degree = max(G_bar_alb_degrees)\n",
        "print(\"Maximum degree: \", G_bar_alb_max_degree)\n",
        "\n",
        "G_bar_alb_min_degree = min(G_bar_alb_degrees)\n",
        "print(\"Minimum degree: \", G_bar_alb_min_degree)\n",
        "\n",
        "G_bar_alb_avg_degree = sum(G_bar_alb_degrees) / N5\n",
        "print(\"Average degree: \", G_bar_alb_avg_degree)\n",
        "\n",
        "#---------------------------------------------------------------\n",
        "# Find connected components\n",
        "G_bar_alb_cc = list(nx.connected_components(G_bar_alb))\n",
        "\n",
        "# Compute the longest path in each strongly connected component\n",
        "longest_path_lengths = []\n",
        "for component in G_bar_alb_cc:\n",
        "    # Create a subgraph induced by the nodes in the component\n",
        "    subgraph = G_bar_alb.subgraph(component)\n",
        "\n",
        "    # Compute the longest path length in the subgraph\n",
        "    longest_path_lengths.append(nx.diameter(subgraph))\n",
        "\n",
        "G_bar_alb_diameter = max(longest_path_lengths)\n",
        "# Print the maximum longest path length as the diameter of the graph\n",
        "print(\"Diameter:\", G_bar_alb_diameter)\n",
        "\n",
        "#---------------------------------------------------------------\n",
        "#Find the average and global clustering coefficient\n",
        "G_bar_alb_avg_clustering = sum(nx.clustering(G_bar_alb).values()) / len(nx.clustering(G_bar_alb))\n",
        "print(\"Average clustering coefficient:\", G_bar_alb_avg_clustering)\n",
        "\n",
        "G_bar_alb_global_clustering = nx.transitivity(G_bar_alb)\n",
        "print(\"Global clustering coefficient:\", G_bar_alb_global_clustering)\n",
        "\n",
        "#---------------------------------------------------------------\n",
        "# Filter for longest components\n",
        "G_bar_alb_longest_cc  = max(len(component) for component in G_bar_alb_cc)\n",
        "\n",
        "print(\"Number of nodes in the longest connected components:\", G_bar_alb_longest_cc)\n",
        "\n",
        "# Compute the number of edges for each component\n",
        "num_edges = dict()\n",
        "for component in G_bar_alb_cc:\n",
        "    subgraph = G_bar_alb.subgraph(component)\n",
        "    #Immutable set of components\n",
        "    num_edges[frozenset(component)] = subgraph.size()\n",
        "\n",
        "# Find the maximum number of edges\n",
        "G_bar_alb_max_num_edges = max(num_edges.values())\n",
        "\n",
        "print(\"Number of edges in the longest connected components:\", G_bar_alb_max_num_edges)\n"
      ],
      "metadata": {
        "id": "wcYlRzflHFLW"
      },
      "execution_count": null,
      "outputs": []
    },
    {
      "cell_type": "markdown",
      "source": [
        "**Network Visualization**"
      ],
      "metadata": {
        "id": "jFmLK3njp1k-"
      }
    },
    {
      "cell_type": "code",
      "source": [
        "# Count the number of occurrences of each degree\n",
        "degree_freq = np.bincount(np.array(G_bar_alb_degrees))"
      ],
      "metadata": {
        "id": "vBoBpm5LExCt"
      },
      "execution_count": null,
      "outputs": []
    },
    {
      "cell_type": "code",
      "source": [
        "# Plot degree distribution using linear scale\n",
        "plt.plot(degree_freq, marker = 'o', alpha=0.5, color = '#1f77b4')\n",
        "plt.title(\"Degree Distribution in Linear Scale\")\n",
        "plt.xlabel(\"Degree\")\n",
        "plt.ylabel(\"Frequency\")\n",
        "plt.show()"
      ],
      "metadata": {
        "id": "HFn6YpKYExCt"
      },
      "execution_count": null,
      "outputs": []
    },
    {
      "cell_type": "code",
      "source": [
        "# Plot degree distribution using log-log scale\n",
        "plt.loglog(degree_freq,  marker = 'o', linestyle='',\n",
        "           alpha=0.5, color = '#1f77b4')\n",
        "plt.xlabel('Degree')\n",
        "plt.ylabel('Frequency')\n",
        "plt.title('Degree Distribution in Log Scale')\n",
        "plt.show()"
      ],
      "metadata": {
        "id": "JyyrDtqkExCu"
      },
      "execution_count": null,
      "outputs": []
    },
    {
      "cell_type": "code",
      "source": [
        "# Get 10 logarithmically spaced bins between min and max degree\n",
        "bin_edges = np.logspace(np.log10(1), np.log10(G_bar_alb_max_degree), num=10)\n",
        "\n",
        "# histogram the data into these bins\n",
        "density, _ = np.histogram(G_bar_alb_degrees, bins=bin_edges, density=True)\n",
        "\n",
        "fig = plt.figure(figsize=(6,4))\n",
        "\n",
        "# \"x\" should be midpoint (IN LOG SPACE) of each bin\n",
        "log_be = np.log10(bin_edges)\n",
        "x = 10**((log_be[1:] + log_be[:-1])/2)\n",
        "\n",
        "plt.loglog(x, density, marker = \"o\", alpha = 0.5, color = '#1f77b4', linestyle=\"none\")\n",
        "plt.title('Log-Log Plot of Degree Distribution with Logarithmic Binning')\n",
        "plt.xlabel(r\"Degree $k$\", fontsize=16)\n",
        "plt.ylabel(r\"$P(k)$\", fontsize=16)\n",
        "\n",
        "# remove right and top boundaries because they're ugly\n",
        "ax = plt.gca()\n",
        "ax.spines['right'].set_visible(False)\n",
        "ax.spines['top'].set_visible(False)\n",
        "ax.yaxis.set_ticks_position('left')\n",
        "ax.xaxis.set_ticks_position('bottom')\n",
        "\n",
        "# Show the plot\n",
        "plt.show()"
      ],
      "metadata": {
        "id": "gr78Ro4jExCv"
      },
      "execution_count": null,
      "outputs": []
    },
    {
      "cell_type": "markdown",
      "source": [
        "# Barabasi-Albert Model (directed graph)"
      ],
      "metadata": {
        "id": "NhmosEo2U17m"
      }
    },
    {
      "cell_type": "code",
      "source": [
        "G_bar_alb_directed = G_bar_alb.to_directed()"
      ],
      "metadata": {
        "id": "b2xbNBmS_hb8"
      },
      "execution_count": null,
      "outputs": []
    },
    {
      "cell_type": "markdown",
      "source": [
        "**Network Measures**"
      ],
      "metadata": {
        "id": "GnydHNxiBpnM"
      }
    },
    {
      "cell_type": "code",
      "source": [
        "# Find the number of nodes\n",
        "N6 = len(G_bar_alb_directed)\n",
        "print(\"Number of nodes:\", N6)\n",
        "\n",
        "#---------------------------------------------------------------\n",
        "# Find the number of nodes with self-loops\n",
        "G_bar_alb_directed_self_loops = list(nx.nodes_with_selfloops(G_bar_alb_directed))\n",
        "print(\"Nodes with self-loops:\", G_bar_alb_directed_self_loops)\n",
        "\n",
        "#---------------------------------------------------------------\n",
        "#Find the number fo edges\n",
        "L6 = G_bar_alb_directed.size()\n",
        "print(\"Number of edges: \", L6)\n",
        "\n",
        "#---------------------------------------------------------------\n",
        "# Find the number of reciprocated edges\n",
        "G_bar_alb_directed_reciprocity = int(nx.algorithms.reciprocity(G_bar_alb_directed) * L6)\n",
        "print(\"Number of reciprocated edges:\", G_bar_alb_directed_reciprocity)\n",
        "\n",
        "#---------------------------------------------------------------\n",
        "# Find the number of sink and source nodes\n",
        "G_bar_alb_directed_sink_nodes = len([node for node in G_bar_alb_directed if G_bar_alb_directed.out_degree(node) == 0])\n",
        "print(\"Number of sink nodes:\", G_bar_alb_directed_sink_nodes)\n",
        "\n",
        "G_bar_alb_directed_source_nodes = len([node for node in G_bar_alb_directed if G_bar_alb_directed.in_degree(node) == 0])\n",
        "print(\"Number of source nodes:\", G_bar_alb_directed_source_nodes)\n",
        "\n",
        "#---------------------------------------------------------------\n",
        "# Find the minimum, maximum and average degree\n",
        "G_bar_alb_directed_degrees = [G_bar_alb_directed.degree(node) for node in G_bar_alb_directed]\n",
        "G_bar_alb_directed_min_degree = min(G_bar_alb_directed_degrees)\n",
        "print(\"Minimum degree: \", G_bar_alb_directed_min_degree)\n",
        "\n",
        "G_bar_alb_directed_max_degree = max(G_bar_alb_directed_degrees)\n",
        "print(\"Maximum degree: \", G_bar_alb_directed_max_degree)\n",
        "\n",
        "G_bar_alb_directed_avg_degree = sum(G_bar_alb_directed_degrees) / N6\n",
        "print(\"Average degree: \", G_bar_alb_directed_avg_degree)\n",
        "\n",
        "#---------------------------------------------------------------\n",
        "# Find the minimum, maximum and average degree of the incoming edges\n",
        "G_bar_alb_directed_incoming_degrees = [G_bar_alb_directed.in_degree(node) for node in G_bar_alb_directed]\n",
        "G_bar_alb_directed_max_incoming_degrees = max(G_bar_alb_directed_incoming_degrees)\n",
        "print(\"Max incoming degree:\", G_bar_alb_directed_max_incoming_degrees)\n",
        "\n",
        "G_bar_alb_directed_min_incoming_degrees = min(G_bar_alb_directed_incoming_degrees)\n",
        "print(\"Min incoming degree:\", G_bar_alb_directed_min_incoming_degrees)\n",
        "\n",
        "G_bar_alb_directed_avg_incoming_degrees = sum(G_bar_alb_directed_incoming_degrees) / N6\n",
        "print(\"Average incoming degree:\", G_bar_alb_directed_avg_incoming_degrees)\n",
        "\n",
        "#---------------------------------------------------------------\n",
        "# Find the minimum, maximum and average degree of the outgoing edges\n",
        "G_bar_alb_directed_outgoing_degrees = [G_bar_alb_directed.out_degree(node) for node in G_bar_alb_directed]\n",
        "G_bar_alb_directed_max_outgoing_degrees = max(G_bar_alb_directed_outgoing_degrees)\n",
        "print(\"Max outgoing degree:\", G_bar_alb_directed_max_incoming_degrees)\n",
        "\n",
        "G_bar_alb_directed_min_outgoing_degrees = min(G_bar_alb_directed_outgoing_degrees)\n",
        "print(\"Min outgoing degree:\", G_bar_alb_directed_min_outgoing_degrees)\n",
        "\n",
        "G_bar_alb_directed_avg_outgoing_degrees = sum(G_bar_alb_directed_outgoing_degrees) / N6\n",
        "print(\"Average outgoing degree:\", G_bar_alb_directed_avg_outgoing_degrees)\n",
        "\n",
        "# Find weakly connected components\n",
        "G_bar_alb_directed_wcc = list(nx.weakly_connected_components(G_bar_alb_directed))\n",
        "\n",
        "# Compute the longest path in each strongly connected component\n",
        "longest_path_lengths = []\n",
        "for component in G_bar_alb_directed_wcc:\n",
        "    # Create a subgraph induced by the nodes in the component\n",
        "    subgraph = G_bar_alb_directed.subgraph(component).to_undirected()\n",
        "\n",
        "    # Compute the longest path length in the subgraph\n",
        "    longest_path_lengths.append(nx.diameter(subgraph))\n",
        "\n",
        "G_bar_alb_directed_diameter = max(longest_path_lengths)\n",
        "# Print the maximum longest path length as the diameter of the graph\n",
        "print(\"Diameter:\", G_bar_alb_directed_diameter)\n",
        "\n",
        "#---------------------------------------------------------------\n",
        "#Find the average and global clustering coefficient\n",
        "G_bar_alb_directed_avg_clustering = 2 * sum(nx.clustering(G_bar_alb_directed).values()) / len(nx.clustering(G_bar_alb_directed))\n",
        "print(\"Average clustering coefficient:\", G_bar_alb_directed_avg_clustering)\n",
        "\n",
        "G_bar_alb_directed_global_clustering = 2 * nx.transitivity(G_bar_alb_directed)\n",
        "print(\"Global clustering coefficient:\", G_bar_alb_directed_global_clustering)\n",
        "\n",
        "#---------------------------------------------------------------\n",
        "# Find strongly connected components\n",
        "G_bar_alb_directed_scc = list(nx.strongly_connected_components(G_bar_alb_directed))\n",
        "\n",
        "# Filter for longest components\n",
        "G_bar_alb_directed_longest_scc  = max(len(component) for component in G_bar_alb_directed_scc)\n",
        "\n",
        "print(\"Number of nodes in the longest strongly connected components:\", G_bar_alb_directed_longest_scc)\n",
        "\n",
        "# Compute the number of edges for each component\n",
        "num_edges = dict()\n",
        "for component in G_bar_alb_directed_scc:\n",
        "    subgraph = G_bar_alb_directed.subgraph(component)\n",
        "    #Immutable set of components\n",
        "    num_edges[frozenset(component)] = subgraph.size()\n",
        "\n",
        "# Find the maximum number of edges\n",
        "G_bar_alb_directed_max_num_edges_scc = max(num_edges.values())\n",
        "\n",
        "print(\"Number of edges in the longest strongly connected components:\", G_bar_alb_directed_max_num_edges_scc)\n",
        "\n",
        "#---------------------------------------------------------------\n",
        "# Filter for longest components\n",
        "# Weakly connected components are already calculated\n",
        "G_bar_alb_directed_longest_wcc  = max(len(component) for component in G_bar_alb_directed_wcc)\n",
        "print(\"Number of nodes in the longest weakly connected components:\", G_bar_alb_directed_longest_wcc)\n",
        "\n",
        "# Compute the number of edges for each component\n",
        "num_edges = dict()\n",
        "for component in G_bar_alb_directed_wcc:\n",
        "    subgraph = G_bar_alb_directed.subgraph(component)\n",
        "    #Immutable set of components\n",
        "    num_edges[frozenset(component)] = subgraph.size()\n",
        "\n",
        "# Find the maximum number of edges\n",
        "G_bar_alb_directed_max_num_edges_wcc = max(num_edges.values())\n",
        "\n",
        "print(\"Number of edges in the longest weakly connected components:\", G_bar_alb_directed_max_num_edges_wcc)\n"
      ],
      "metadata": {
        "id": "EnWjHNAPh-hs"
      },
      "execution_count": null,
      "outputs": []
    },
    {
      "cell_type": "markdown",
      "source": [
        "**Network Visualization**"
      ],
      "metadata": {
        "id": "uLF4FzvtqCAj"
      }
    },
    {
      "cell_type": "code",
      "source": [
        "# Count the number of occurrences of each degree\n",
        "in_degree_freq = np.bincount(np.array(G_bar_alb_directed_incoming_degrees))\n",
        "out_degree_freq = np.bincount(np.array(G_bar_alb_directed_outgoing_degrees))"
      ],
      "metadata": {
        "id": "Ptu05UnUGKtl"
      },
      "execution_count": null,
      "outputs": []
    },
    {
      "cell_type": "code",
      "source": [
        "# Plot degree distribution using linear scale\n",
        "plt.plot(in_degree_freq, marker = 'o', alpha=0.5, color = '#1f77b4', label=\"in-degree\")\n",
        "plt.plot(out_degree_freq, marker = 'o', alpha=0.5, color = '#d62728', label=\"out-degree\")\n",
        "plt.legend()\n",
        "plt.title(\"Degree Distribution in Linear Scale\")\n",
        "plt.xlabel(\"Degree\")\n",
        "plt.ylabel(\"Frequency\")\n",
        "plt.show()"
      ],
      "metadata": {
        "id": "9w1cguOwGKtl"
      },
      "execution_count": null,
      "outputs": []
    },
    {
      "cell_type": "code",
      "source": [
        "# Plot degree distribution using log-log scale\n",
        "plt.loglog(in_degree_freq,  marker = 'o', linestyle='',\n",
        "           alpha=0.5, color = '#1f77b4', label=\"in-degree\")\n",
        "plt.loglog(out_degree_freq, marker = 'o', linestyle='',\n",
        "           alpha=0.5, color = '#d62728', label=\"out-degree\")\n",
        "plt.legend()\n",
        "plt.xlabel('Degree')\n",
        "plt.ylabel('Frequency')\n",
        "plt.title('Degree Distribution in Log Scale')\n",
        "plt.show()"
      ],
      "metadata": {
        "id": "-KT0YMMSGKtm"
      },
      "execution_count": null,
      "outputs": []
    },
    {
      "cell_type": "code",
      "source": [
        "# Get 10 logarithmically spaced bins between min and max degree\n",
        "bin_edges = np.logspace(np.log10(1), np.log10(G_bar_alb_directed_max_degree), num=10)\n",
        "\n",
        "# histogram the data into these bins\n",
        "in_density, _ = np.histogram(G_bar_alb_directed_incoming_degrees, bins=bin_edges, density=True)\n",
        "out_density, _ = np.histogram(G_bar_alb_directed_outgoing_degrees, bins=bin_edges, density=True)\n",
        "\n",
        "fig = plt.figure(figsize=(6,4))\n",
        "\n",
        "# \"x\" should be midpoint (IN LOG SPACE) of each bin\n",
        "log_be = np.log10(bin_edges)\n",
        "x = 10**((log_be[1:] + log_be[:-1])/2)\n",
        "\n",
        "plt.loglog(x, in_density, marker = \"o\", alpha = 0.5, color = '#1f77b4', linestyle=\"none\", label = \"in-degree\")\n",
        "plt.loglog(x, out_density, marker = \"o\", alpha=0.5, color = '#d62728', linestyle=\"none\", label = \"out-degree\")\n",
        "plt.title('Log-Log Plot of Degree Distribution with Logarithmic Binning')\n",
        "plt.xlabel(r\"Degree $k$\", fontsize=16)\n",
        "plt.ylabel(r\"$P(k)$\", fontsize=16)\n",
        "plt.legend()\n",
        "\n",
        "# remove right and top boundaries because they're ugly\n",
        "ax = plt.gca()\n",
        "ax.spines['right'].set_visible(False)\n",
        "ax.spines['top'].set_visible(False)\n",
        "ax.yaxis.set_ticks_position('left')\n",
        "ax.xaxis.set_ticks_position('bottom')\n",
        "\n",
        "# Show the plot\n",
        "plt.show()"
      ],
      "metadata": {
        "id": "maFfzS8FGKtm"
      },
      "execution_count": null,
      "outputs": []
    },
    {
      "cell_type": "markdown",
      "source": [
        "# **Results**"
      ],
      "metadata": {
        "id": "AwH6XAKmk08C"
      }
    },
    {
      "cell_type": "code",
      "source": [
        "# Define a dictionary containing data\n",
        "data = { 'Network Characteristics':[\"Number of nodes\", \"Nodes with self-loops\", \"Number of edges\", \"Number of reciprocated edges\",\n",
        "                                   \"Number of sink nodes\", \"Number of source nodes\", \"Minimum degree \", \"Maximum degree\",\n",
        "                                    \"Average degree\", \"Max incoming degree\", \"Min incoming degree\", \"Average incoming degree\",\n",
        "                                    \"Max outgoing degree\", \"Min outgoing degree\", \"Average outgoing degree\", \"Diameter\",\n",
        "                                    \"Average clustering coefficient\", \"Global clustering coefficient\", \"Number of nodes in the longest SCC\",\n",
        "                                    \"Number of edges in the longest SCC\", \"Number of nodes in the longest WCC\", \"Number of edges in the longest WCC\"],\n",
        "\n",
        "        'file1':[N1, G1_self_loops , L1, G1_reciprocity, G1_sink_nodes, G1_source_nodes, G1_min_degree, G1_max_degree,\n",
        "                          G1_avg_degree, G1_max_incoming_degrees, G1_min_incoming_degrees, G1_avg_incoming_degrees, G1_max_outgoing_degrees,\n",
        "                          G1_min_outgoing_degrees, G1_avg_outgoing_degrees, G1_diameter, G1_avg_clustering, G1_global_clustering,\n",
        "                          G1_longest_scc, G1_max_num_edges_scc, G1_longest_wcc, G1_max_num_edges_wcc],\n",
        "\n",
        "        'file2':[N2, G2_self_loops , L2, '-', '-', '-', G2_min_degree, G2_max_degree,\n",
        "                   G2_avg_degree, '-', '-', '-', '-', '-', '-', G2_diameter, G2_avg_clustering,\n",
        "                   G2_global_clustering, G2_longest_cc, G2_max_num_edges, G2_longest_cc, G2_max_num_edges],\n",
        "\n",
        "        'Erdös-Renyi': [N3, G_erdos_self_loops , L3, '-', '-', '-', G_erdos_min_degree, G_erdos_max_degree,\n",
        "                   G_erdos_avg_degree, '-', '-', '-', '-', '-', '-', G_erdos_diameter, G_erdos_avg_clustering,\n",
        "                   G_erdos_global_clustering, G_erdos_longest_cc, G_erdos_max_num_edges, G_erdos_longest_cc, G_erdos_max_num_edges],\n",
        "\n",
        "        'Watts and Strogatz': [N4, G_watts_str_self_loops , L4, '-', '-', '-', G_watts_str_min_degree, G_watts_str_max_degree,\n",
        "                   G_watts_str_avg_degree, '-', '-', '-', '-', '-', '-', G_watts_str_diameter,G_watts_str_avg_clustering,\n",
        "                   G_watts_str_global_clustering, G_watts_str_longest_cc, G_watts_str_max_num_edges, G_watts_str_longest_cc, G_watts_str_max_num_edges],\n",
        "\n",
        "        'Barabasi-Albert (undirected)':[N5, G_bar_alb_self_loops , L5, '-', '-', '-',G_bar_alb_min_degree, G_bar_alb_max_degree,\n",
        "                   G_bar_alb_avg_degree, '-', '-', '-', '-', '-', '-', G_bar_alb_diameter, G_bar_alb_avg_clustering,\n",
        "                   G_bar_alb_global_clustering, G_bar_alb_longest_cc, G_bar_alb_max_num_edges, G_bar_alb_longest_cc, G_bar_alb_max_num_edges],\n",
        "\n",
        "        'Barabasi-Albert (directed)':[ N6, G_bar_alb_directed_self_loops, L6, G_bar_alb_directed_reciprocity, G_bar_alb_directed_sink_nodes,\n",
        "                                                  G_bar_alb_directed_source_nodes, G_bar_alb_directed_min_degree, G_bar_alb_directed_max_degree,\n",
        "                                                  G_bar_alb_directed_avg_degree, G_bar_alb_directed_max_incoming_degrees, G_bar_alb_directed_min_incoming_degrees,\n",
        "                                                  G_bar_alb_directed_avg_incoming_degrees, G_bar_alb_directed_max_outgoing_degrees, G_bar_alb_directed_min_outgoing_degrees,\n",
        "                                                  G_bar_alb_directed_avg_outgoing_degrees, G_bar_alb_directed_diameter, G_bar_alb_directed_avg_clustering,\n",
        "                                                  G_bar_alb_directed_global_clustering, G_bar_alb_directed_longest_scc, G_bar_alb_directed_max_num_edges_scc,\n",
        "                                                  G_bar_alb_directed_longest_wcc, G_bar_alb_directed_max_num_edges_wcc]\n",
        "        }\n",
        "\n",
        "# Convert the dictionary into DataFrame\n",
        "df = pd.DataFrame(data)\n",
        "print(df.to_markdown())"
      ],
      "metadata": {
        "id": "62XK3Uzokyhi"
      },
      "execution_count": null,
      "outputs": []
    }
  ]
}